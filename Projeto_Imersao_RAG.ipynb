{
  "nbformat": 4,
  "nbformat_minor": 0,
  "metadata": {
    "colab": {
      "provenance": [],
      "authorship_tag": "ABX9TyMgbSg8ycbfvo2AL6Drxbyp",
      "include_colab_link": true
    },
    "kernelspec": {
      "name": "python3",
      "display_name": "Python 3"
    },
    "language_info": {
      "name": "python"
    }
  },
  "cells": [
    {
      "cell_type": "markdown",
      "metadata": {
        "id": "view-in-github",
        "colab_type": "text"
      },
      "source": [
        "<a href=\"https://colab.research.google.com/github/juanluisunicamp/Imersao_IA_RAG/blob/main/Projeto_Imersao_RAG.ipynb\" target=\"_parent\"><img src=\"https://colab.research.google.com/assets/colab-badge.svg\" alt=\"Open In Colab\"/></a>"
      ]
    },
    {
      "cell_type": "markdown",
      "source": [
        "# RAG\n",
        "### Inspirado no paper do Visconde\n",
        "### Link: https://arxiv.org/pdf/2212.09656"
      ],
      "metadata": {
        "id": "PwxpOYf74RTG"
      }
    },
    {
      "cell_type": "markdown",
      "source": [
        "## Instalando pacotes"
      ],
      "metadata": {
        "id": "pRi4KaLz3IL8"
      }
    },
    {
      "cell_type": "code",
      "execution_count": 1,
      "metadata": {
        "colab": {
          "base_uri": "https://localhost:8080/"
        },
        "id": "y4-9qXxPX8m0",
        "outputId": "2ad48a7d-1eb6-4915-d6ba-c669b3715790"
      },
      "outputs": [
        {
          "output_type": "stream",
          "name": "stdout",
          "text": [
            "Reading package lists... Done\n",
            "Building dependency tree... Done\n",
            "Reading state information... Done\n",
            "openjdk-21-jre-headless is already the newest version (21.0.2+13-1~22.04.1).\n",
            "0 upgraded, 0 newly installed, 0 to remove and 45 not upgraded.\n"
          ]
        }
      ],
      "source": [
        "!apt install openjdk-21-jre-headless\n",
        "!pip install -q -U google-generativeai\n",
        "!pip install -q pyserini faiss-cpu groq"
      ]
    },
    {
      "cell_type": "markdown",
      "source": [
        "## Configuração inicial do sistema"
      ],
      "metadata": {
        "id": "TdflQhGj3Ncb"
      }
    },
    {
      "cell_type": "code",
      "source": [
        "import os\n",
        "from google.colab import userdata\n",
        "import google.generativeai as genai"
      ],
      "metadata": {
        "id": "4cETGyMPYPo6"
      },
      "execution_count": 4,
      "outputs": []
    },
    {
      "cell_type": "code",
      "source": [
        "os.environ[\"JAVA_HOME\"] = \"/usr/lib/jvm/java-21-openjdk-amd64\"\n",
        "GOOGLE_API_KEY          = userdata.get('ImersaoIA')\n",
        "genai.configure(api_key = GOOGLE_API_KEY)"
      ],
      "metadata": {
        "id": "7haYveA2YRxz"
      },
      "execution_count": 5,
      "outputs": []
    },
    {
      "cell_type": "markdown",
      "source": [
        "## Importamos as bibliotecas"
      ],
      "metadata": {
        "id": "jrRF_aXU3Qfs"
      }
    },
    {
      "cell_type": "code",
      "source": [
        "import re\n",
        "import json\n",
        "import time\n",
        "import spacy\n",
        "import random\n",
        "import pickle\n",
        "import string\n",
        "import tarfile\n",
        "import requests\n",
        "import subprocess\n",
        "import numpy as np\n",
        "import unicodedata\n",
        "import collections\n",
        "from tqdm import tqdm\n",
        "from bs4 import BeautifulSoup\n",
        "from collections import Counter\n",
        "import google.generativeai as genai\n",
        "from pyserini.search.lucene import LuceneSearcher"
      ],
      "metadata": {
        "id": "-IBqn1EvYjJx"
      },
      "execution_count": 6,
      "outputs": []
    },
    {
      "cell_type": "code",
      "source": [
        "DATA_DIR       = 'data'\n",
        "DATA_INDEX_DIR = f\"{DATA_DIR}/iirc_index\""
      ],
      "metadata": {
        "id": "AlVuswiDYt6V"
      },
      "execution_count": 7,
      "outputs": []
    },
    {
      "cell_type": "markdown",
      "source": [
        "## Creamos o dataset"
      ],
      "metadata": {
        "id": "guw4uAR23UKE"
      }
    },
    {
      "cell_type": "code",
      "source": [
        "def create_dataset():\n",
        "    IIRC_train_dev   = \"https://iirc-dataset.s3.us-west-2.amazonaws.com/iirc_train_dev.tgz\"\n",
        "    Context_articles = \"https://iirc-dataset.s3.us-west-2.amazonaws.com/context_articles.tar.gz\"\n",
        "    IIRC_test        = \"https://iirc-dataset.s3.us-west-2.amazonaws.com/iirc_test.json\"\n",
        "\n",
        "    if not os.path.exists(DATA_DIR):\n",
        "        os.makedirs(DATA_DIR)\n",
        "\n",
        "    for url in [IIRC_train_dev, Context_articles, IIRC_test]:\n",
        "        filename = url.split('/')[-1]\n",
        "        filepath = os.path.join(DATA_DIR, filename)\n",
        "\n",
        "        if not os.path.exists(filepath):\n",
        "            print(f\"Baixando {filename}...\")\n",
        "            r = requests.get(url)\n",
        "            with open(filepath, 'wb') as f:\n",
        "                f.write(r.content)\n",
        "            print(f\"{filename} baixado.\")\n",
        "\n",
        "        if filename.endswith('.tgz') or filename.endswith('.tar.gz'):\n",
        "\n",
        "            with tarfile.open(filepath, 'r:gz') as tar:\n",
        "                members = [m for m in tar.getmembers() if not os.path.exists(os.path.join(DATA_DIR, m.name))]\n",
        "                if len(members) > 0:\n",
        "                    print(f\"Extraindo {filename}...\")\n",
        "                    tar.extractall(DATA_DIR, members=members)\n",
        "                    print(f\"{filename} extraído.\")\n",
        "\n",
        "    train_set        = json.load(open(f\"{DATA_DIR}/iirc_train_dev/train.json\", \"r\"))\n",
        "    context_articles = json.load(open(f\"{DATA_DIR}/context_articles.json\", \"r\"))\n",
        "    test_set         = json.load(open(f\"{DATA_DIR}/iirc_test.json\", \"r\"))\n",
        "    return train_set, context_articles, test_set"
      ],
      "metadata": {
        "id": "du6iZyhIYvrX"
      },
      "execution_count": 8,
      "outputs": []
    },
    {
      "cell_type": "markdown",
      "source": [
        "## Modelos do Gemini"
      ],
      "metadata": {
        "id": "XUDCTq123W37"
      }
    },
    {
      "cell_type": "code",
      "source": [
        "for models in genai.list_models():\n",
        "  if \"generateContent\" in models.supported_generation_methods:\n",
        "    print(models.name)"
      ],
      "metadata": {
        "colab": {
          "base_uri": "https://localhost:8080/",
          "height": 139
        },
        "id": "IhDm83sjbS11",
        "outputId": "88b63a80-2d9a-42b4-8fdd-48aafb6cd828"
      },
      "execution_count": 9,
      "outputs": [
        {
          "output_type": "stream",
          "name": "stdout",
          "text": [
            "models/gemini-1.0-pro\n",
            "models/gemini-1.0-pro-001\n",
            "models/gemini-1.0-pro-latest\n",
            "models/gemini-1.0-pro-vision-latest\n",
            "models/gemini-1.5-pro-latest\n",
            "models/gemini-pro\n",
            "models/gemini-pro-vision\n"
          ]
        }
      ]
    },
    {
      "cell_type": "markdown",
      "source": [
        "## Configuração do modelo generativo"
      ],
      "metadata": {
        "id": "8UK1fqYd3aiO"
      }
    },
    {
      "cell_type": "code",
      "source": [
        "generation_config = {\n",
        "  \"candidate_count\"  : 1,\n",
        "  \"temperature\"      : 0,\n",
        "}\n",
        "safety_settings = {\n",
        "  \"HARASSMENT\" : \"BLOCK_NONE\",\n",
        "  \"HATE\"       : \"BLOCK_NONE\",\n",
        "  \"SEXUAL\"     : \"BLOCK_NONE\",\n",
        "  \"DANGEROUS\"  : \"BLOCK_NONE\",\n",
        "}\n",
        "model = genai.GenerativeModel(model_name        = \"models/gemini-1.5-pro-latest\",\n",
        "                              generation_config = generation_config,\n",
        "                              safety_settings   = safety_settings)"
      ],
      "metadata": {
        "id": "OLKOJ7P6YxRK"
      },
      "execution_count": 10,
      "outputs": []
    },
    {
      "cell_type": "markdown",
      "source": [
        "## Amostras"
      ],
      "metadata": {
        "id": "NugUAgdY3fcN"
      }
    },
    {
      "cell_type": "code",
      "source": [
        "train_set, context_articles, test_set = create_dataset()\n",
        "print(f\"\\nQuantidade de amostras do train_set: {len(train_set)}\")\n",
        "print(f\"\\nQuantidade de amostras do context_articles: {len(context_articles)}\")\n",
        "print(f\"\\nQuantidade de amostras do test_set: {len(test_set)}\")\n",
        "\n",
        "max_amostras = 150\n",
        "test_set     = test_set[0:150]\n",
        "print(f\"\\nQuantidade de amostras do test_set: {len(test_set)}\")"
      ],
      "metadata": {
        "colab": {
          "base_uri": "https://localhost:8080/"
        },
        "id": "9dqfBGVMY3TU",
        "outputId": "c3d78399-2619-4a44-a379-af04eb20d97d"
      },
      "execution_count": 11,
      "outputs": [
        {
          "output_type": "stream",
          "name": "stdout",
          "text": [
            "\n",
            "Quantidade de amostras do train_set: 4754\n",
            "\n",
            "Quantidade de amostras do context_articles: 56550\n",
            "\n",
            "Quantidade de amostras do test_set: 514\n",
            "\n",
            "Quantidade de amostras do test_set: 150\n"
          ]
        }
      ]
    },
    {
      "cell_type": "code",
      "source": [
        "#Exemplo do train_set: Lista\n",
        "train_set[0]"
      ],
      "metadata": {
        "colab": {
          "base_uri": "https://localhost:8080/"
        },
        "id": "nvUMSb6gY6yr",
        "outputId": "92a27c75-ef9f-466d-a5a1-fd46d7474230"
      },
      "execution_count": 12,
      "outputs": [
        {
          "output_type": "execute_result",
          "data": {
            "text/plain": [
              "{'questions': [{'context': [{'text': 'During Operation Market Garden, the attempt to seize a bridgehead across the Rhine in the Netherlands, the 704th dropped supplies to allied troops near Nijmegen.',\n",
              "     'indices': [494, 655],\n",
              "     'passage': 'main'},\n",
              "    {'text': 'Operation Market Garden was a failed World War II military operation fought in the Netherlands from 17 to 25 September 1944.',\n",
              "     'indices': [0, 124],\n",
              "     'passage': 'Operation Market Garden'}],\n",
              "   'question_links': ['Operation Market Garden'],\n",
              "   'answer': {'answer_spans': [{'start': 131,\n",
              "      'text': ' from 17 to 25 September 1944',\n",
              "      'passage': 'operation market garden',\n",
              "      'end': 160}],\n",
              "    'type': 'span'},\n",
              "   'question': 'When did the operation during which the 704th dropped supplies to allied troops near Nijmegen begin?',\n",
              "   'qid': 'q_0'}],\n",
              " 'links': [{'indices': [73, 84], 'target': 'Air Support'},\n",
              "  {'indices': [89, 101], 'target': 'Interdiction'},\n",
              "  {'indices': [125, 143], 'target': 'Operation Overlord'},\n",
              "  {'indices': [161, 169], 'target': 'Normandy'},\n",
              "  {'indices': [279, 284], 'target': 'Normandy landings'},\n",
              "  {'indices': [345, 357], 'target': 'Heavy bomber'},\n",
              "  {'indices': [411, 415], 'target': 'Caen'},\n",
              "  {'indices': [420, 428], 'target': 'Saint-Lô'},\n",
              "  {'indices': [501, 524], 'target': 'Operation Market Garden'},\n",
              "  {'indices': [571, 576], 'target': 'Rhine'},\n",
              "  {'indices': [627, 633], 'target': 'Allies of World War II'},\n",
              "  {'indices': [646, 654], 'target': 'Nijmegen'},\n",
              "  {'indices': [701, 720], 'target': 'Battle of the Bulge'},\n",
              "  {'indices': [729, 746], 'target': 'Operation Varsity'},\n",
              "  {'indices': [806, 811], 'target': 'Wesel'},\n",
              "  {'indices': [880, 888], 'target': 'Salzburg'}],\n",
              " 'text': 'The group was occasionally diverted from strategic missions to carry out air support and interdiction missions. It supported Operation Overlord, the invasion of Normandy by attacking transportation targets, including bridges, along with airfields and strong points in France. On D Day, the squadron and the rest of the 446th Group led the first heavy bomber mission of the day. The 446th aided ground forces at Caen and Saint-Lô during July by hitting bridges, gun batteries, and enemy troops. During Operation Market Garden, the attempt to seize a bridgehead across the Rhine in the Netherlands, the 704th dropped supplies to allied troops near Nijmegen. It struck lines of communications during the Battle of the Bulge. During Operation Varsity in March 1945, it supplied ground and airborne troops near Wesel. The squadron flew its last combat mission on 25 April 1945 against Salzburg, Austria. The group had flown 273 missions and had lost 58 aircraft during the war,\\n',\n",
              " 'title': '446th Operations Group',\n",
              " 'pid': 'p_0'}"
            ]
          },
          "metadata": {},
          "execution_count": 12
        }
      ]
    },
    {
      "cell_type": "code",
      "source": [
        "#Exemplo do context_articles: Diccionario\n",
        "print(next(iter(context_articles.keys())))\n",
        "print(next(iter(context_articles.items())))"
      ],
      "metadata": {
        "colab": {
          "base_uri": "https://localhost:8080/"
        },
        "id": "ulZtt1o4ZEU3",
        "outputId": "afb72b75-7482-425b-8602-862270cb60a9"
      },
      "execution_count": 13,
      "outputs": [
        {
          "output_type": "stream",
          "name": "stdout",
          "text": [
            "san diego padres\n",
            "('san diego padres', 'The San Diego Padres are an American <a href=\"professional%20baseball\">professional baseball</a> team based in <a href=\"San%20Diego\">San Diego</a>, <a href=\"California\">California</a>. They compete in <a href=\"Major%20League%20Baseball\">Major League Baseball</a> (MLB) as a member club of the <a href=\"National%20League\">National League</a> (NL) <a href=\"National%20League%20West\">West division</a>. Founded in <a href=\"1969%20San%20Diego%20Padres%20season\">1969</a>, the Padres have won two <a href=\"List%20of%20National%20League%20pennant%20winners\">NL pennants</a> — in <a href=\"1984%20San%20Diego%20Padres%20season\">1984</a> and <a href=\"1998%20San%20Diego%20Padres%20season\">1998</a>, losing in the <a href=\"World%20Series\">World Series</a> both years. As of <a href=\"2017%20San%20Diego%20Padres%20season\">2018</a>, they have had 14 winning seasons in franchise history. The Padres are one of two Major League Baseball teams (the other being the <a href=\"Los%20Angeles%20Angels\">Los Angeles Angels</a>) in <a href=\"California\">California</a> to originate from that state; the <a href=\"Oakland%20Athletics\">Athletics</a> were originally from <a href=\"Philadelphia\">Philadelphia</a> (and moved to the state from <a href=\"Kansas%20City%2C%20Missouri\">Kansas City</a>), and the <a href=\"Los%20Angeles%20Dodgers\">Dodgers</a> and <a href=\"San%20Francisco%20Giants\">Giants</a> are originally from two New York City boroughs – <a href=\"Brooklyn\">Brooklyn</a> and <a href=\"Manhattan\">Manhattan</a>, respectively. The Padres are the only MLB team that does not share its city with another franchise in the <a href=\"Major%20professional%20sports%20leagues%20in%20the%20United%20States%20and%20Canada\">four major American professional sports leagues</a>. The Padres are the only <a href=\"List%20of%20American%20and%20Canadian%20cities%20by%20number%20of%20major%20professional%20sports%20franchises%23List%20of%20teams%20by%20urban%20area\">major professional sports franchise</a> to be located in San Diego, following the <a href=\"Relocation%20of%20professional%20sports%20teams\">relocation</a> of the <a href=\"Los%20Angeles%20Chargers\">Chargers</a> to <a href=\"Los%20Angeles\">Los Angeles</a> in 2017. They are also the only franchise in the MLB not to have a <a href=\"no-hitter\">no-hitter</a>, having gone 8020 games without throwing one, a major league record to begin a franchise.\\n\\nMinor league team.The Padres adopted their name from the <a href=\"Pacific%20Coast%20League\">Pacific Coast League</a> team that arrived in San Diego in 1936. That minor league franchise won the PCL title in 1937, led by 18-year-old <a href=\"Ted%20Williams\">Ted Williams</a>, the future <a href=\"Baseball%20Hall%20of%20Fame\">Hall-of-Famer</a> who was a native of San Diego. The team\\'s name, Spanish for \"fathers\", refers to the Spanish <a href=\"Franciscan\">Franciscan</a> <a href=\"friar\">friars</a> who founded <a href=\"Mission%20San%20Diego%20de%20Alcal%C3%A1\">San Diego</a> in 1769.\\n\\nMajor league team.In <a href=\"1969%20San%20Diego%20Padres%20season\">1969</a>, the Padres joined the ranks of <a href=\"Major%20League%20Baseball\">Major League Baseball</a> as one of four new expansion teams, along with the <a href=\"Montreal%20Expos\">Montreal Expos</a> (now the <a href=\"Washington%20Nationals\">Washington Nationals</a>), the <a href=\"Kansas%20City%20Royals\">Kansas City Royals</a>, and the <a href=\"Seattle%20Pilots\">Seattle Pilots</a> (now the <a href=\"Milwaukee%20Brewers\">Milwaukee Brewers</a>). Their original owner was <a href=\"C.%20Arnholt%20Smith\">C. Arnholt Smith</a>, a prominent San Diego businessman and former owner of the <a href=\"San%20Diego%20Padres%20%28PCL%29\">PCL Padres</a> whose interests included banking, tuna fishing, hotels, real estate and an airline. Despite initial excitement, the guidance of longtime baseball executives, Eddie Leishman and <a href=\"Buzzie%20Bavasi\">Buzzie Bavasi</a> as well as a new <a href=\"Qualcomm%20Stadium\">playing field</a>, the team struggled; the Padres finished in last place in each of its first six seasons in the <a href=\"National%20League%20West\">NL West</a>, losing 100 games or more four times. One of the few bright spots on the team during the early years was first baseman and slugger <a href=\"Nate%20Colbert\">Nate Colbert</a>, an expansion draftee from the <a href=\"Houston%20Astros\">Houston Astros</a> and still the Padres\\' career leader in home runs.\\n\\nThe team\\'s fortunes gradually improved as they won five <a href=\"National%20League%20West\">National League West</a> titles and reached the <a href=\"World%20Series\">World Series</a> twice, in <a href=\"1984%20World%20Series\">1984</a> and in <a href=\"1998%20World%20Series\">1998</a>, but lost both times. The Padres\\' main draw during the 1980s and 1990s was <a href=\"Tony%20Gwynn\">Tony Gwynn</a>, who won eight league batting titles. They moved into their current stadium, <a href=\"Petco%20Park\">Petco Park</a>, in <a href=\"2004%20San%20Diego%20Padres%20season\">2004</a>.\\n\\nAs of 2019, the Padres are the only team in MLB yet to throw a no-hitter. On September 5, 1997, <a href=\"Andy%20Ashby\">Andy Ashby</a> took a no-hitter into the 9th inning, which is as close as the team has come to achieving this feat.\\n\\nSpring training.The team has played its spring training games at the <a href=\"Peoria%20Sports%20Complex\">Peoria Sports Complex</a> in <a href=\"Peoria%2C%20Arizona\">Peoria, Arizona</a> since 1994. They share the stadium with the <a href=\"Seattle%20Mariners\">Seattle Mariners</a>.\\n\\nFrom 1969 to 1993, the Padres held spring training in <a href=\"Yuma%2C%20Arizona\">Yuma, Arizona</a> at <a href=\"Desert%20Sun%20Stadium\">Desert Sun Stadium</a>. Due to the short driving distance and direct highway route (170 miles, all on <a href=\"Interstate%208\">Interstate 8</a>), Yuma was very popular with Padres fans, and many fans would travel by car from San Diego for spring training games. The move from Yuma to Peoria was very controversial, but was defended by the team as a reflection on the low quality of facilities in Yuma and the long travel necessary to play against other Arizona-based spring training teams (whose sites were all in the Phoenix and Tucson areas, both rather far from Yuma).\\n\\nLogos and colors.Throughout the team\\'s history, the San Diego Padres have used multiple logos, uniform, and color combinations. Their first logo depicted a <a href=\"friar\">friar</a> swinging a bat with Padres written at the top while standing in a sun-like figure with San Diego Padres on the exterior of it. The \"Swinging Friar\" has popped up on the uniform on and off ever since. Although the \"Swinging Friar\" is no longer used as the primary logo, it remains as the <a href=\"mascot\">mascot</a> of the team and is now utilized as an alternate logo and on the uniform sleeve.\\n\\nIn 1985, the Padres switched to using a script-like logo in which <i>Padres</i> was written sloped up. That would later become a script logo for the Padres. The team\\'s colors were changed to brown and orange and remained this way through the 1990 season.\\n\\nIn 1989, the Padres took the scripted Padres logo that was used from 1985 to 1988 and put it in a gray ring that read \"San Diego Baseball Club\" with a striped center. In 1991, the color of the ring was changed to silver, and the Padres script was changed from brown to blue. The logo only lasted one year, as the Padres changed their logo for the third time in three years, again by switching colors of the ring. The logo became a white ring with fewer stripes in the center and a darker blue Padres script with orange shadows. In 1991, the team\\'s colors were also changed, to a combination of orange and navy blue.\\n\\nFor the 2002 season, the Padres removed the stripes off the home jersey and went with a white home jersey with a cleaner look. The pinstripe jerseys were worn as alternate jerseys on certain occasions throughout the 2002 season. The Padres kept this design for two seasons until their 2004 season, in which they moved into their new ballpark.\\n\\nThe logo was completely changed when the team changed stadiums between the 2003 and 2004 seasons, with the new logo looking similar to home plate with <i>San Diego</i> written in sand font at the top right corner and the Padres new script written completely across the center. Waves finished the bottom of the plate. Navy remained but a sandy beige replaced orange as a secondary color. The team\\'s colors were also changed, to navy blue and sand brown. For the next seven seasons the Padres were the only team in Major League Baseball that did not have a gray jersey, with the team typically playing in either blue or sand jerseys on the road and white or blue jerseys at home. In 2009, the <i>San Diego</i> was removed from the top right corner of the logo and two years later, the away uniform changed from sand to gray.\\n\\nFor the 2012 season, the Padres unveiled a new primary logo, featuring the cap logo inside a navy blue circle with the words \"San Diego Padres Baseball Club\" adorning the outer circle. The \"swinging friar\" logo was recolored to the current colors of navy blue and white. Another secondary logo features the Padres script carried over from the previous year\\'s primary logo below the depiction of <a href=\"Petco%20Park\">Petco Park</a> in sand and above the year of the team\\'s first season (EST. 1969). Until 2015, the blue and sand version was used on the home uniform, while the blue and white version was used on the away and alternate uniforms.\\n\\nIn the 2016 season, the Padres wore a navy blue and yellow color scheme, similar to the one used on the <a href=\"2016%20Major%20League%20Baseball%20All-Star%20Game\">2016 Major League Baseball All-Star Game</a> logo. To coincide with the change, the Padres added a new brown and yellow alternate uniform to be worn mostly during Friday home games.\\n\\nFor the 2017 season, the Padres revealed a new color scheme and new jerseys for the second straight year. The yellow was scrapped from the home uniform and the team reverted to a navy blue-and-white combo. The word <i>Padres</i> returned to the front of the home uniform, but with a new script, while the script on the road uniform reverted to the <i>San Diego</i> wordmark style it used from 2004–11. Despite this major change, the brown and yellow alternate uniform from the previous set was retained.\\n\\nThe club announced on January 25, 2019 that the original brown and gold colors would return for the <a href=\"2020%20Major%20League%20Baseball%20season\">2020 Major League Baseball season</a>. The new uniform designs featuring the brown and gold colors were officially unveiled on November 9. The team featured brown and gold on each of the three unveiled jerseys, including the return of pinstripes to the Padre home jersey for the first time since 2001 and a non-gray road jersey for the first time since 2010.\\n\\nMilitary appreciation.Starting in 1996, the Padres became the first national sports team to have an annual military appreciation event. Following in 2000, the Padres began wearing a <a href=\"Military%20camouflage\">camouflage</a> to honor the <a href=\"United%20States%20armed%20forces\">military</a>. The jersey will now have had seven different versions since. Starting in 2008, the Padres began wearing camouflage jerseys for every Sunday home game. They also wear these uniforms on Memorial Day, Independence Day, and Labor Day. For 2011, the Padres changed the camouflage design to a more modern \"digital\" design, using the <a href=\"MARPAT\">MARPAT</a> design after receiving permission from then-<a href=\"Commandant%20of%20the%20Marine%20Corps\">Commandant</a> <a href=\"James%20T.%20Conway\">Conway</a>, and dropped the green from the lettering and logo of the jersey. Green was replaced by a sand-olive color (also in the cap worn with the jersey). For 2016, to coincide with hosting the <a href=\"2016%20Major%20League%20Baseball%20All-Star%20Game\">2016 Major League Baseball All-Star Game</a>, the Padres changed the camouflage jersey once again; this time to navy blue, however, this design was only worn for one season as for 2017, the Padres switched the camouflage jersey to Marine, which was used through 2019. For 2020, the Padres will begin using two different camouflage jersey colors: green and sand-olive, both with the current <i>Padres</i> wordmark. Since 1995 Marine Recruits from the nearby <a href=\"Marine%20Corps%20Recruit%20Depot%20San%20Diego\">Marine Corps Recruit Depot</a> often visit the games en masse during Military Appreciation Day, in uniform, often filling entire sections in the upper deck of Petco Park. When they are present, the team commemorates this with a special Fourth Inning Stretch featuring the <a href=\"Marines%27%20Hymn\">Marine Hymn</a>. Through April 2005 over 60,000 marine recruits were hosted by the Padres. This is part of an extensive military outreach program, which also includes a series of Military Appreciation Night games, and <a href=\"Videotape\">game tapes</a> mailed to deployed <a href=\"United%20States%20Navy\">United States Navy</a> ships of the Pacific Fleet for onboard viewing (a large portion of the <a href=\"United%20States%20Pacific%20Fleet\">Pacific Fleet</a> is homeported in San Diego).\\n\\nThe <a href=\"San%20Diego%20County\">San Diego area</a> <a href=\"San%20Diego%23Defense%20and%20military\">is home to</a> a number of military installations, including several <a href=\"United%20States%20Navy\">Navy</a> and <a href=\"United%20States%20Coast%20Guard\">Coast Guard</a> bases centered on <a href=\"San%20Diego%20Bay\">San Diego Bay</a>, <a href=\"Marine%20Corps%20Air%20Station%20Miramar\">Marine Corps Air Station Miramar</a> (former home of the <a href=\"United%20States%20Navy%20Strike%20Fighter%20Tactics%20Instructor%20program\">\"Top Gun\"</a> training program), and the <a href=\"United%20States%20Marine%20Corps\">Marine Corps</a> training ground at <a href=\"Marine%20Corps%20Base%20Camp%20Pendleton\">Camp Pendleton</a>. Civilians employed at those bases account for around 5% of the county\\'s working population.\\n\\nMascot.The \"Swinging Friar\" is currently the <a href=\"mascot\">mascot</a> of the team. Some in the past have confused <a href=\"The%20Famous%20Chicken\">The Famous Chicken</a> as the mascot of the Padres. Although he does make appearances occasionally at San Diego sporting events, he has never been the official mascot of any San Diego sports team.\\n\\nBaseball Hall of Famers.The following elected members of the <a href=\"National%20Baseball%20Hall%20of%20Fame%20and%20Museum\">Baseball Hall of Fame</a> played and/or managed for the Padres.\\nRetired numbers.The Padres have <a href=\"Squad%20number%23Retired%20numbers\">retired</a> six numbers. Five were in honor of Padre players and one was <a href=\"Jackie%20Robinson\">Jackie Robinson</a>\\'s number 42, which was retired by all of Major League Baseball. The retired numbers are displayed on the upper deck facade behind home plate.\\nThe Padres also have a \"star on the wall\" in honor of broadcaster <a href=\"Jerry%20Coleman\">Jerry Coleman</a>, in reference to his trademark phrase \"Oh Doctor! You can hang a star on that baby!\" Nearby the initials of the late owner <a href=\"Ray%20Kroc\">Ray Kroc</a> are also displayed. Both the star and the initials are painted in gold on the front of the pressbox down the right field line accompanied by the name of the person in white. Kroc was honored in 1984, Coleman in 2001.\\n\\nTeam Hall of Fame.The following 14 people have been inducted into the San Diego Padres Hall of Fame since it was founded in 1999.\\n\\nSan Diego Hall of Champions.Gwynn, Winfield, Fingers, Gossage, Randy Jones, and <a href=\"Graig%20Nettles\">Graig Nettles</a> (3B, 1984–1987) are members of the <a href=\"San%20Diego%20Hall%20of%20Champions\">San Diego Hall of Champions</a>, which is open to athletes native to the San Diego area (such as Nettles) as well as to those who played for San Diego teams (such as Gwynn).\\n\\nRadio and television.Padres\\' games are currently televised by <a href=\"Fox%20Sports%20San%20Diego\">Fox Sports San Diego</a>. <a href=\"Don%20Orsillo\">Don Orsillo</a> is the play-by-play announcer, with <a href=\"Mark%20Grant%20%28baseball%29\">Mark Grant</a> as color analyst and either Julie Alexandria, Ron Zinter, or <a href=\"Bob%20Scanlan\">Bob Scanlan</a> as <a href=\"field%20reporter\">field reporter</a>. <a href=\"Mike%20Pomeranz\">Mike Pomeranz</a> hosts the <i>Padres Live</i> pre- and post-game show along with <a href=\"Mark%20Sweeney\">Mark Sweeney</a>.\\n\\nAs of the 2018 season, Padres radio broadcasts in English are carried by <a href=\"KWFN\">KWFN</a> <i>97.3 The Fan</i>, after having previously been carried by <a href=\"sister%20station\">sister station</a> 94.9 <a href=\"KBZT\">KBZT</a> upon the acquisition of the radio rights by <a href=\"Entercom\">Entercom</a> in 2017. <a href=\"Ted%20Leitner\">Ted Leitner</a> is the primary <a href=\"play-by-play\">play-by-play</a> announcer, with Jesse Agler working the middle innings of each game and Bob Scanlan serving as <a href=\"color%20analyst\">color analyst</a>. The games are also broadcast in Spanish on <a href=\"XEMO-AM\">XEMO-AM</a>,<i>La Poderosa 860 AM</i>, with Eduardo Ortega, Carlos Hernández and Pedro Gutiérrez announcing. Padre games were also aired from 2006–2010 on <a href=\"XHPRS-FM\">XHPRS-FM</a> 105.7.\\n\\nSpanish language telecasts of Sunday games are seen <a href=\"XHAS-TDT\">XHAS-TDT</a> channel 33. Until September 2007, Friday and Saturday games were seen in Spanish on <a href=\"KSEX-CD\">KBOP-CA</a> channel 43, until that station changed to an all-infomercial format. This makes XHAS-TDT the only over-the-air-television station carrying Padres baseball. English-language Padres over-the-air broadcasts aired through the years on <a href=\"XETV-TDT\">XETV-TV</a> 6, <a href=\"KNSD\">KCST-TV</a> 39, <a href=\"KUSI-TV\">KUSI-TV</a> 51, <a href=\"KFMB-TV\">KFMB-TV</a> 8 and <a href=\"KSWB-TV\">KSWB-TV</a> 69.\\n\\nJohn Demott was the Padres\\' first public address announcer when the team began in 1969. By the late 1970s Bruce Binkowski had taken over as PA announcer, and became the longest-serving public address announcer in the team\\'s history, remaining until the end of the 1999 season. First DeMott and then Binkowski also were responsible with PA announcing duties for the <a href=\"History%20of%20the%20San%20Diego%20Chargers\">San Diego Chargers</a> and the <a href=\"San%20Diego%20State%20University\">San Diego State University</a> Aztecs, both of which were joint tenants at Qualcomm Stadium with the Padres until the Padres moved into <a href=\"Petco%20Park\">Petco Park</a>. From Petco Park\\'s opening in 2004 until 2013, the PA announcer was Frank Anthony, a radio host with 105.7 <a href=\"XHPRS-FM\">XHPRS-FM</a>. On April 19, 2014, Alex Miniak was announced as the new Public Address announcer for the San Diego Padres. Miniak was formerly the PA announcer for the <a href=\"New%20Hampshire%20Fisher%20Cats\">New Hampshire Fisher Cats</a>, the Double-A affiliate of the <a href=\"Toronto%20Blue%20Jays\">Toronto Blue Jays</a>.\\n\\nThe San Diego Padres were first portrayed in the 1979 <a href=\"National%20Broadcasting%20Company\">NBC</a> made-for-TV film \"<a href=\"The%20Kid%20from%20Left%20Field%20%281979%20film%29\">The Kid from Left Field</a>,\" starring <a href=\"Gary%20Coleman\">Gary Coleman</a> as Jackie Robinson \"J.R.\" Cooper, a youngster who is passionate about baseball, and puts his knowledge to good use when he becomes the manager of the Padres and helps them lead to the <a href=\"World%20Series\">World Series</a>.\\n\\nIn 2016, the San Diego Padres were portrayed once again in the one-season <a href=\"Fox%20Broadcasting%20Company\">Fox</a> television series <i><a href=\"Pitch%20%28TV%20series%29\">Pitch</a></i>, starring <a href=\"Kylie%20Bunbury\">Kylie Bunbury</a> as Ginny Baker, the first female to play in Major League Baseball.\\n\\nEducational involvement.The San Diego Padres established The Padres Scholars program, the first of its kind among professional sports. Originally each Padres scholar was selected as a seventh grader and received a $5,000 scholarship after graduation from high school to go towards higher education. This program has reached 389 students from its establishment in 1995 to now. Over the past few years the program has undergone a few changes to be effective an education standpoint. This program focuses on creating a close relationship between the chosen scholars and the team. As of 2011, 3 high school seniors will be chosen to receive a $30,000 scholarship to be awarded through the course of their higher education. Maintaining this prestigious award is conditional on maintaining contact with the Padres and providing proof of good academic standing.\\n\\nThe San Diego Padres are the sponsors of and heavily involved in most aspects of the Sports Business Management MBA degree program offered in conjunction with <a href=\"San%20Diego%20State%20University\">San Diego State University</a>\\'s <a href=\"San%20Diego%20State%20University%20College%20of%20Business%20Administration\">College of Business Administration</a>. SDSU\\'s Sports MBA is the only program of its kind created in partnership with a professional sports franchise. The curriculum focuses on the entire sports business industry, not just baseball. The program includes an internship. Members of Padres senior management regularly participate, including work with the development and continued coordination of SDSU\\'s International Case Competition, which annually attracts participation from top business schools.\\n\\nSee also.<ul><li>- <i></i> – Jerry Coleman\\'s 2008 autobiography\\n</li></ul>\\n\\nExternal links.<ul><li>- <a href=\"http%3A//www.sportslogos.net/logos/list_by_team/73\">San Diego Padres Logos</a>\\n</li></ul>\\n\\n</doc>\\n')\n"
          ]
        }
      ]
    },
    {
      "cell_type": "code",
      "source": [
        "#Exemplo do context_articles: Diccionario\n",
        "print(next(iter(context_articles.keys())))\n",
        "print(next(iter(context_articles.items())))"
      ],
      "metadata": {
        "colab": {
          "base_uri": "https://localhost:8080/"
        },
        "id": "I6656R0SZEgl",
        "outputId": "2babe377-a9a8-40dc-cdd7-56eb67dbc29f"
      },
      "execution_count": 14,
      "outputs": [
        {
          "output_type": "stream",
          "name": "stdout",
          "text": [
            "san diego padres\n",
            "('san diego padres', 'The San Diego Padres are an American <a href=\"professional%20baseball\">professional baseball</a> team based in <a href=\"San%20Diego\">San Diego</a>, <a href=\"California\">California</a>. They compete in <a href=\"Major%20League%20Baseball\">Major League Baseball</a> (MLB) as a member club of the <a href=\"National%20League\">National League</a> (NL) <a href=\"National%20League%20West\">West division</a>. Founded in <a href=\"1969%20San%20Diego%20Padres%20season\">1969</a>, the Padres have won two <a href=\"List%20of%20National%20League%20pennant%20winners\">NL pennants</a> — in <a href=\"1984%20San%20Diego%20Padres%20season\">1984</a> and <a href=\"1998%20San%20Diego%20Padres%20season\">1998</a>, losing in the <a href=\"World%20Series\">World Series</a> both years. As of <a href=\"2017%20San%20Diego%20Padres%20season\">2018</a>, they have had 14 winning seasons in franchise history. The Padres are one of two Major League Baseball teams (the other being the <a href=\"Los%20Angeles%20Angels\">Los Angeles Angels</a>) in <a href=\"California\">California</a> to originate from that state; the <a href=\"Oakland%20Athletics\">Athletics</a> were originally from <a href=\"Philadelphia\">Philadelphia</a> (and moved to the state from <a href=\"Kansas%20City%2C%20Missouri\">Kansas City</a>), and the <a href=\"Los%20Angeles%20Dodgers\">Dodgers</a> and <a href=\"San%20Francisco%20Giants\">Giants</a> are originally from two New York City boroughs – <a href=\"Brooklyn\">Brooklyn</a> and <a href=\"Manhattan\">Manhattan</a>, respectively. The Padres are the only MLB team that does not share its city with another franchise in the <a href=\"Major%20professional%20sports%20leagues%20in%20the%20United%20States%20and%20Canada\">four major American professional sports leagues</a>. The Padres are the only <a href=\"List%20of%20American%20and%20Canadian%20cities%20by%20number%20of%20major%20professional%20sports%20franchises%23List%20of%20teams%20by%20urban%20area\">major professional sports franchise</a> to be located in San Diego, following the <a href=\"Relocation%20of%20professional%20sports%20teams\">relocation</a> of the <a href=\"Los%20Angeles%20Chargers\">Chargers</a> to <a href=\"Los%20Angeles\">Los Angeles</a> in 2017. They are also the only franchise in the MLB not to have a <a href=\"no-hitter\">no-hitter</a>, having gone 8020 games without throwing one, a major league record to begin a franchise.\\n\\nMinor league team.The Padres adopted their name from the <a href=\"Pacific%20Coast%20League\">Pacific Coast League</a> team that arrived in San Diego in 1936. That minor league franchise won the PCL title in 1937, led by 18-year-old <a href=\"Ted%20Williams\">Ted Williams</a>, the future <a href=\"Baseball%20Hall%20of%20Fame\">Hall-of-Famer</a> who was a native of San Diego. The team\\'s name, Spanish for \"fathers\", refers to the Spanish <a href=\"Franciscan\">Franciscan</a> <a href=\"friar\">friars</a> who founded <a href=\"Mission%20San%20Diego%20de%20Alcal%C3%A1\">San Diego</a> in 1769.\\n\\nMajor league team.In <a href=\"1969%20San%20Diego%20Padres%20season\">1969</a>, the Padres joined the ranks of <a href=\"Major%20League%20Baseball\">Major League Baseball</a> as one of four new expansion teams, along with the <a href=\"Montreal%20Expos\">Montreal Expos</a> (now the <a href=\"Washington%20Nationals\">Washington Nationals</a>), the <a href=\"Kansas%20City%20Royals\">Kansas City Royals</a>, and the <a href=\"Seattle%20Pilots\">Seattle Pilots</a> (now the <a href=\"Milwaukee%20Brewers\">Milwaukee Brewers</a>). Their original owner was <a href=\"C.%20Arnholt%20Smith\">C. Arnholt Smith</a>, a prominent San Diego businessman and former owner of the <a href=\"San%20Diego%20Padres%20%28PCL%29\">PCL Padres</a> whose interests included banking, tuna fishing, hotels, real estate and an airline. Despite initial excitement, the guidance of longtime baseball executives, Eddie Leishman and <a href=\"Buzzie%20Bavasi\">Buzzie Bavasi</a> as well as a new <a href=\"Qualcomm%20Stadium\">playing field</a>, the team struggled; the Padres finished in last place in each of its first six seasons in the <a href=\"National%20League%20West\">NL West</a>, losing 100 games or more four times. One of the few bright spots on the team during the early years was first baseman and slugger <a href=\"Nate%20Colbert\">Nate Colbert</a>, an expansion draftee from the <a href=\"Houston%20Astros\">Houston Astros</a> and still the Padres\\' career leader in home runs.\\n\\nThe team\\'s fortunes gradually improved as they won five <a href=\"National%20League%20West\">National League West</a> titles and reached the <a href=\"World%20Series\">World Series</a> twice, in <a href=\"1984%20World%20Series\">1984</a> and in <a href=\"1998%20World%20Series\">1998</a>, but lost both times. The Padres\\' main draw during the 1980s and 1990s was <a href=\"Tony%20Gwynn\">Tony Gwynn</a>, who won eight league batting titles. They moved into their current stadium, <a href=\"Petco%20Park\">Petco Park</a>, in <a href=\"2004%20San%20Diego%20Padres%20season\">2004</a>.\\n\\nAs of 2019, the Padres are the only team in MLB yet to throw a no-hitter. On September 5, 1997, <a href=\"Andy%20Ashby\">Andy Ashby</a> took a no-hitter into the 9th inning, which is as close as the team has come to achieving this feat.\\n\\nSpring training.The team has played its spring training games at the <a href=\"Peoria%20Sports%20Complex\">Peoria Sports Complex</a> in <a href=\"Peoria%2C%20Arizona\">Peoria, Arizona</a> since 1994. They share the stadium with the <a href=\"Seattle%20Mariners\">Seattle Mariners</a>.\\n\\nFrom 1969 to 1993, the Padres held spring training in <a href=\"Yuma%2C%20Arizona\">Yuma, Arizona</a> at <a href=\"Desert%20Sun%20Stadium\">Desert Sun Stadium</a>. Due to the short driving distance and direct highway route (170 miles, all on <a href=\"Interstate%208\">Interstate 8</a>), Yuma was very popular with Padres fans, and many fans would travel by car from San Diego for spring training games. The move from Yuma to Peoria was very controversial, but was defended by the team as a reflection on the low quality of facilities in Yuma and the long travel necessary to play against other Arizona-based spring training teams (whose sites were all in the Phoenix and Tucson areas, both rather far from Yuma).\\n\\nLogos and colors.Throughout the team\\'s history, the San Diego Padres have used multiple logos, uniform, and color combinations. Their first logo depicted a <a href=\"friar\">friar</a> swinging a bat with Padres written at the top while standing in a sun-like figure with San Diego Padres on the exterior of it. The \"Swinging Friar\" has popped up on the uniform on and off ever since. Although the \"Swinging Friar\" is no longer used as the primary logo, it remains as the <a href=\"mascot\">mascot</a> of the team and is now utilized as an alternate logo and on the uniform sleeve.\\n\\nIn 1985, the Padres switched to using a script-like logo in which <i>Padres</i> was written sloped up. That would later become a script logo for the Padres. The team\\'s colors were changed to brown and orange and remained this way through the 1990 season.\\n\\nIn 1989, the Padres took the scripted Padres logo that was used from 1985 to 1988 and put it in a gray ring that read \"San Diego Baseball Club\" with a striped center. In 1991, the color of the ring was changed to silver, and the Padres script was changed from brown to blue. The logo only lasted one year, as the Padres changed their logo for the third time in three years, again by switching colors of the ring. The logo became a white ring with fewer stripes in the center and a darker blue Padres script with orange shadows. In 1991, the team\\'s colors were also changed, to a combination of orange and navy blue.\\n\\nFor the 2002 season, the Padres removed the stripes off the home jersey and went with a white home jersey with a cleaner look. The pinstripe jerseys were worn as alternate jerseys on certain occasions throughout the 2002 season. The Padres kept this design for two seasons until their 2004 season, in which they moved into their new ballpark.\\n\\nThe logo was completely changed when the team changed stadiums between the 2003 and 2004 seasons, with the new logo looking similar to home plate with <i>San Diego</i> written in sand font at the top right corner and the Padres new script written completely across the center. Waves finished the bottom of the plate. Navy remained but a sandy beige replaced orange as a secondary color. The team\\'s colors were also changed, to navy blue and sand brown. For the next seven seasons the Padres were the only team in Major League Baseball that did not have a gray jersey, with the team typically playing in either blue or sand jerseys on the road and white or blue jerseys at home. In 2009, the <i>San Diego</i> was removed from the top right corner of the logo and two years later, the away uniform changed from sand to gray.\\n\\nFor the 2012 season, the Padres unveiled a new primary logo, featuring the cap logo inside a navy blue circle with the words \"San Diego Padres Baseball Club\" adorning the outer circle. The \"swinging friar\" logo was recolored to the current colors of navy blue and white. Another secondary logo features the Padres script carried over from the previous year\\'s primary logo below the depiction of <a href=\"Petco%20Park\">Petco Park</a> in sand and above the year of the team\\'s first season (EST. 1969). Until 2015, the blue and sand version was used on the home uniform, while the blue and white version was used on the away and alternate uniforms.\\n\\nIn the 2016 season, the Padres wore a navy blue and yellow color scheme, similar to the one used on the <a href=\"2016%20Major%20League%20Baseball%20All-Star%20Game\">2016 Major League Baseball All-Star Game</a> logo. To coincide with the change, the Padres added a new brown and yellow alternate uniform to be worn mostly during Friday home games.\\n\\nFor the 2017 season, the Padres revealed a new color scheme and new jerseys for the second straight year. The yellow was scrapped from the home uniform and the team reverted to a navy blue-and-white combo. The word <i>Padres</i> returned to the front of the home uniform, but with a new script, while the script on the road uniform reverted to the <i>San Diego</i> wordmark style it used from 2004–11. Despite this major change, the brown and yellow alternate uniform from the previous set was retained.\\n\\nThe club announced on January 25, 2019 that the original brown and gold colors would return for the <a href=\"2020%20Major%20League%20Baseball%20season\">2020 Major League Baseball season</a>. The new uniform designs featuring the brown and gold colors were officially unveiled on November 9. The team featured brown and gold on each of the three unveiled jerseys, including the return of pinstripes to the Padre home jersey for the first time since 2001 and a non-gray road jersey for the first time since 2010.\\n\\nMilitary appreciation.Starting in 1996, the Padres became the first national sports team to have an annual military appreciation event. Following in 2000, the Padres began wearing a <a href=\"Military%20camouflage\">camouflage</a> to honor the <a href=\"United%20States%20armed%20forces\">military</a>. The jersey will now have had seven different versions since. Starting in 2008, the Padres began wearing camouflage jerseys for every Sunday home game. They also wear these uniforms on Memorial Day, Independence Day, and Labor Day. For 2011, the Padres changed the camouflage design to a more modern \"digital\" design, using the <a href=\"MARPAT\">MARPAT</a> design after receiving permission from then-<a href=\"Commandant%20of%20the%20Marine%20Corps\">Commandant</a> <a href=\"James%20T.%20Conway\">Conway</a>, and dropped the green from the lettering and logo of the jersey. Green was replaced by a sand-olive color (also in the cap worn with the jersey). For 2016, to coincide with hosting the <a href=\"2016%20Major%20League%20Baseball%20All-Star%20Game\">2016 Major League Baseball All-Star Game</a>, the Padres changed the camouflage jersey once again; this time to navy blue, however, this design was only worn for one season as for 2017, the Padres switched the camouflage jersey to Marine, which was used through 2019. For 2020, the Padres will begin using two different camouflage jersey colors: green and sand-olive, both with the current <i>Padres</i> wordmark. Since 1995 Marine Recruits from the nearby <a href=\"Marine%20Corps%20Recruit%20Depot%20San%20Diego\">Marine Corps Recruit Depot</a> often visit the games en masse during Military Appreciation Day, in uniform, often filling entire sections in the upper deck of Petco Park. When they are present, the team commemorates this with a special Fourth Inning Stretch featuring the <a href=\"Marines%27%20Hymn\">Marine Hymn</a>. Through April 2005 over 60,000 marine recruits were hosted by the Padres. This is part of an extensive military outreach program, which also includes a series of Military Appreciation Night games, and <a href=\"Videotape\">game tapes</a> mailed to deployed <a href=\"United%20States%20Navy\">United States Navy</a> ships of the Pacific Fleet for onboard viewing (a large portion of the <a href=\"United%20States%20Pacific%20Fleet\">Pacific Fleet</a> is homeported in San Diego).\\n\\nThe <a href=\"San%20Diego%20County\">San Diego area</a> <a href=\"San%20Diego%23Defense%20and%20military\">is home to</a> a number of military installations, including several <a href=\"United%20States%20Navy\">Navy</a> and <a href=\"United%20States%20Coast%20Guard\">Coast Guard</a> bases centered on <a href=\"San%20Diego%20Bay\">San Diego Bay</a>, <a href=\"Marine%20Corps%20Air%20Station%20Miramar\">Marine Corps Air Station Miramar</a> (former home of the <a href=\"United%20States%20Navy%20Strike%20Fighter%20Tactics%20Instructor%20program\">\"Top Gun\"</a> training program), and the <a href=\"United%20States%20Marine%20Corps\">Marine Corps</a> training ground at <a href=\"Marine%20Corps%20Base%20Camp%20Pendleton\">Camp Pendleton</a>. Civilians employed at those bases account for around 5% of the county\\'s working population.\\n\\nMascot.The \"Swinging Friar\" is currently the <a href=\"mascot\">mascot</a> of the team. Some in the past have confused <a href=\"The%20Famous%20Chicken\">The Famous Chicken</a> as the mascot of the Padres. Although he does make appearances occasionally at San Diego sporting events, he has never been the official mascot of any San Diego sports team.\\n\\nBaseball Hall of Famers.The following elected members of the <a href=\"National%20Baseball%20Hall%20of%20Fame%20and%20Museum\">Baseball Hall of Fame</a> played and/or managed for the Padres.\\nRetired numbers.The Padres have <a href=\"Squad%20number%23Retired%20numbers\">retired</a> six numbers. Five were in honor of Padre players and one was <a href=\"Jackie%20Robinson\">Jackie Robinson</a>\\'s number 42, which was retired by all of Major League Baseball. The retired numbers are displayed on the upper deck facade behind home plate.\\nThe Padres also have a \"star on the wall\" in honor of broadcaster <a href=\"Jerry%20Coleman\">Jerry Coleman</a>, in reference to his trademark phrase \"Oh Doctor! You can hang a star on that baby!\" Nearby the initials of the late owner <a href=\"Ray%20Kroc\">Ray Kroc</a> are also displayed. Both the star and the initials are painted in gold on the front of the pressbox down the right field line accompanied by the name of the person in white. Kroc was honored in 1984, Coleman in 2001.\\n\\nTeam Hall of Fame.The following 14 people have been inducted into the San Diego Padres Hall of Fame since it was founded in 1999.\\n\\nSan Diego Hall of Champions.Gwynn, Winfield, Fingers, Gossage, Randy Jones, and <a href=\"Graig%20Nettles\">Graig Nettles</a> (3B, 1984–1987) are members of the <a href=\"San%20Diego%20Hall%20of%20Champions\">San Diego Hall of Champions</a>, which is open to athletes native to the San Diego area (such as Nettles) as well as to those who played for San Diego teams (such as Gwynn).\\n\\nRadio and television.Padres\\' games are currently televised by <a href=\"Fox%20Sports%20San%20Diego\">Fox Sports San Diego</a>. <a href=\"Don%20Orsillo\">Don Orsillo</a> is the play-by-play announcer, with <a href=\"Mark%20Grant%20%28baseball%29\">Mark Grant</a> as color analyst and either Julie Alexandria, Ron Zinter, or <a href=\"Bob%20Scanlan\">Bob Scanlan</a> as <a href=\"field%20reporter\">field reporter</a>. <a href=\"Mike%20Pomeranz\">Mike Pomeranz</a> hosts the <i>Padres Live</i> pre- and post-game show along with <a href=\"Mark%20Sweeney\">Mark Sweeney</a>.\\n\\nAs of the 2018 season, Padres radio broadcasts in English are carried by <a href=\"KWFN\">KWFN</a> <i>97.3 The Fan</i>, after having previously been carried by <a href=\"sister%20station\">sister station</a> 94.9 <a href=\"KBZT\">KBZT</a> upon the acquisition of the radio rights by <a href=\"Entercom\">Entercom</a> in 2017. <a href=\"Ted%20Leitner\">Ted Leitner</a> is the primary <a href=\"play-by-play\">play-by-play</a> announcer, with Jesse Agler working the middle innings of each game and Bob Scanlan serving as <a href=\"color%20analyst\">color analyst</a>. The games are also broadcast in Spanish on <a href=\"XEMO-AM\">XEMO-AM</a>,<i>La Poderosa 860 AM</i>, with Eduardo Ortega, Carlos Hernández and Pedro Gutiérrez announcing. Padre games were also aired from 2006–2010 on <a href=\"XHPRS-FM\">XHPRS-FM</a> 105.7.\\n\\nSpanish language telecasts of Sunday games are seen <a href=\"XHAS-TDT\">XHAS-TDT</a> channel 33. Until September 2007, Friday and Saturday games were seen in Spanish on <a href=\"KSEX-CD\">KBOP-CA</a> channel 43, until that station changed to an all-infomercial format. This makes XHAS-TDT the only over-the-air-television station carrying Padres baseball. English-language Padres over-the-air broadcasts aired through the years on <a href=\"XETV-TDT\">XETV-TV</a> 6, <a href=\"KNSD\">KCST-TV</a> 39, <a href=\"KUSI-TV\">KUSI-TV</a> 51, <a href=\"KFMB-TV\">KFMB-TV</a> 8 and <a href=\"KSWB-TV\">KSWB-TV</a> 69.\\n\\nJohn Demott was the Padres\\' first public address announcer when the team began in 1969. By the late 1970s Bruce Binkowski had taken over as PA announcer, and became the longest-serving public address announcer in the team\\'s history, remaining until the end of the 1999 season. First DeMott and then Binkowski also were responsible with PA announcing duties for the <a href=\"History%20of%20the%20San%20Diego%20Chargers\">San Diego Chargers</a> and the <a href=\"San%20Diego%20State%20University\">San Diego State University</a> Aztecs, both of which were joint tenants at Qualcomm Stadium with the Padres until the Padres moved into <a href=\"Petco%20Park\">Petco Park</a>. From Petco Park\\'s opening in 2004 until 2013, the PA announcer was Frank Anthony, a radio host with 105.7 <a href=\"XHPRS-FM\">XHPRS-FM</a>. On April 19, 2014, Alex Miniak was announced as the new Public Address announcer for the San Diego Padres. Miniak was formerly the PA announcer for the <a href=\"New%20Hampshire%20Fisher%20Cats\">New Hampshire Fisher Cats</a>, the Double-A affiliate of the <a href=\"Toronto%20Blue%20Jays\">Toronto Blue Jays</a>.\\n\\nThe San Diego Padres were first portrayed in the 1979 <a href=\"National%20Broadcasting%20Company\">NBC</a> made-for-TV film \"<a href=\"The%20Kid%20from%20Left%20Field%20%281979%20film%29\">The Kid from Left Field</a>,\" starring <a href=\"Gary%20Coleman\">Gary Coleman</a> as Jackie Robinson \"J.R.\" Cooper, a youngster who is passionate about baseball, and puts his knowledge to good use when he becomes the manager of the Padres and helps them lead to the <a href=\"World%20Series\">World Series</a>.\\n\\nIn 2016, the San Diego Padres were portrayed once again in the one-season <a href=\"Fox%20Broadcasting%20Company\">Fox</a> television series <i><a href=\"Pitch%20%28TV%20series%29\">Pitch</a></i>, starring <a href=\"Kylie%20Bunbury\">Kylie Bunbury</a> as Ginny Baker, the first female to play in Major League Baseball.\\n\\nEducational involvement.The San Diego Padres established The Padres Scholars program, the first of its kind among professional sports. Originally each Padres scholar was selected as a seventh grader and received a $5,000 scholarship after graduation from high school to go towards higher education. This program has reached 389 students from its establishment in 1995 to now. Over the past few years the program has undergone a few changes to be effective an education standpoint. This program focuses on creating a close relationship between the chosen scholars and the team. As of 2011, 3 high school seniors will be chosen to receive a $30,000 scholarship to be awarded through the course of their higher education. Maintaining this prestigious award is conditional on maintaining contact with the Padres and providing proof of good academic standing.\\n\\nThe San Diego Padres are the sponsors of and heavily involved in most aspects of the Sports Business Management MBA degree program offered in conjunction with <a href=\"San%20Diego%20State%20University\">San Diego State University</a>\\'s <a href=\"San%20Diego%20State%20University%20College%20of%20Business%20Administration\">College of Business Administration</a>. SDSU\\'s Sports MBA is the only program of its kind created in partnership with a professional sports franchise. The curriculum focuses on the entire sports business industry, not just baseball. The program includes an internship. Members of Padres senior management regularly participate, including work with the development and continued coordination of SDSU\\'s International Case Competition, which annually attracts participation from top business schools.\\n\\nSee also.<ul><li>- <i></i> – Jerry Coleman\\'s 2008 autobiography\\n</li></ul>\\n\\nExternal links.<ul><li>- <a href=\"http%3A//www.sportslogos.net/logos/list_by_team/73\">San Diego Padres Logos</a>\\n</li></ul>\\n\\n</doc>\\n')\n"
          ]
        }
      ]
    },
    {
      "cell_type": "markdown",
      "source": [
        "## Criamos os indices"
      ],
      "metadata": {
        "id": "AuFNPLMa3nd7"
      }
    },
    {
      "cell_type": "code",
      "source": [
        "documents = []\n",
        "all_titles = []\n",
        "\n",
        "for item in test_set:\n",
        "    if item['title'].lower() not in all_titles:\n",
        "        soup       = BeautifulSoup(item[\"text\"], \"html.parser\")\n",
        "        clean_text = soup.get_text()\n",
        "\n",
        "        documents.append({\n",
        "                \"title\": item['title'],\n",
        "                \"content\": clean_text\n",
        "            }\n",
        "        )\n",
        "        all_titles.append(item['title'].lower())\n",
        "    for link in item[\"links\"]:\n",
        "        if link['target'].lower() in context_articles and link['target'].lower() not in all_titles:\n",
        "            soup       = BeautifulSoup(context_articles[link['target'].lower()], \"html.parser\")\n",
        "            clean_text = soup.get_text()\n",
        "\n",
        "            documents.append({\n",
        "                \"title\": link['target'],\n",
        "                \"content\": clean_text\n",
        "            })\n",
        "            all_titles.append(link['target'].lower())\n",
        "        else:\n",
        "            print(link['target'].lower())"
      ],
      "metadata": {
        "colab": {
          "base_uri": "https://localhost:8080/"
        },
        "id": "Y73DBHd_Zihs",
        "outputId": "90ea6116-b07f-452a-8bb7-2d7abda77768"
      },
      "execution_count": 15,
      "outputs": [
        {
          "output_type": "stream",
          "name": "stdout",
          "text": [
            "9th paratroopers assault regiment \"col moschin\"\n",
            "goldfinger (film)\n",
            "list of international cricket council members\n",
            "icc americas championship\n",
            "the rev\n",
            "avenged sevenfold\n",
            "fox footy\n",
            "herald sun\n",
            "fox footy\n",
            "herald sun\n",
            "united states\n",
            "judeo-iraqi arabic\n",
            "maya civilization\n",
            "black watch\n",
            "suicidal tendencies\n",
            "western hockey league\n",
            "national hockey league\n",
            "home run\n",
            "minor league baseball\n",
            "colonel\n",
            "colonel\n",
            "massachusetts institute of technology\n",
            "israel\n",
            "harvard business review\n",
            "american football\n",
            "college football\n",
            "united states\n",
            "billboard 200\n",
            "romeo discography\n",
            "billboard 200\n",
            "master p\n",
            "hip hop history\n",
            "billboard 200\n",
            "louisiana\n",
            "arizona\n",
            "state farm stadium\n",
            "louisiana\n",
            "united states\n",
            "gulf of mexico\n",
            "saffir–simpson scale\n",
            "forgotten realms\n",
            "list of dungeons & dragons rulebooks\n",
            "mexico\n",
            "napoleon iii\n",
            "american football\n",
            "national football league\n",
            "mexico\n",
            "lucha libre\n",
            "protagonist\n",
            "double dragon\n",
            "world war ii\n",
            "banff, alberta\n",
            "american football\n",
            "quarterback\n",
            "college football\n",
            "2009 nfl draft\n",
            "new york city\n",
            "los angeles\n",
            "metal massacre\n",
            "metal massacre\n",
            "hull city a.f.c.\n",
            "port phillip district\n",
            "slant magazine\n",
            "everton f.c.\n",
            "everton f.c.\n",
            "florence\n",
            "soviet union\n",
            "world hockey association\n",
            "fa cup\n",
            "mets de guaynabo (basketball)\n",
            "mets de guaynabo (basketball)\n",
            "mario morales coliseum\n",
            "mario morales coliseum\n",
            "guaynabo fluminense fc\n",
            "puerto rico soccer league\n",
            "guaynabo fluminense fc\n",
            "recording industry association of america\n",
            "united kingdom\n",
            "fc kariya\n",
            "south australia\n",
            "adelaide\n",
            "ice hockey\n",
            "canada\n",
            "university of toronto\n",
            "the pittsburgh press\n",
            "royal navy\n",
            "chicago\n",
            "rock and roll\n",
            "spanish civil war\n",
            "boston brawlers\n",
            "luanda\n",
            "sony\n",
            "florida\n",
            "florida public service commission\n",
            "world series\n",
            "national league\n",
            "mediterranean fleet\n",
            "member of parliament\n",
            "bruce lee\n",
            "shandong\n",
            "continental divide of the americas\n",
            "shankh monastery\n",
            "the emperor jones\n",
            "france\n",
            "napoleon\n",
            "belgium\n",
            "detroit pistons\n",
            "english channel\n",
            "royal australian navy\n",
            "republic of china navy\n",
            "order of the red banner\n",
            "harper's magazine\n",
            "morris museum of art\n",
            "midwestern united states\n",
            "french union\n",
            "sex organ\n",
            "dismissal of james comey\n",
            "national basketball association\n",
            "omaha, nebraska\n",
            "birmingham city f.c.\n",
            "australia\n",
            "cape town\n",
            "jerusalem\n",
            "football league second division\n",
            "q (magazine)\n",
            "r.e.m.\n",
            "new york city\n",
            "canada\n",
            "southampton\n",
            "the bahamas\n",
            "quebec\n",
            "ministry of commerce and industry (india)\n",
            "licence raj\n"
          ]
        }
      ]
    },
    {
      "cell_type": "markdown",
      "source": [
        "## Janelamento"
      ],
      "metadata": {
        "id": "hwxti9Jt3q7i"
      }
    },
    {
      "cell_type": "code",
      "source": [
        "def window(documents, stride=2, max_length=3):\n",
        "    treated_documents = []\n",
        "    nlp               = spacy.blank(\"en\")\n",
        "    nlp.add_pipe(\"sentencizer\")\n",
        "\n",
        "    for j,document in enumerate(tqdm(documents)):\n",
        "        doc_text = document['content']\n",
        "        doc = nlp(doc_text)\n",
        "        sentences = [sent.text.strip() for sent in doc.sents]\n",
        "        for i in range(0, len(sentences), stride):\n",
        "            segment = ' '.join(sentences[i:i + max_length])\n",
        "            treated_documents.append({\n",
        "                \"title\": document['title'],\n",
        "                \"contents\": document['title']+\". \"+segment,\n",
        "                \"segment\": segment\n",
        "            })\n",
        "            if i + max_length >= len(sentences):\n",
        "                break\n",
        "    return treated_documents"
      ],
      "metadata": {
        "id": "lt7UYC1FZlGe"
      },
      "execution_count": 16,
      "outputs": []
    },
    {
      "cell_type": "code",
      "source": [
        "documents[0]"
      ],
      "metadata": {
        "colab": {
          "base_uri": "https://localhost:8080/"
        },
        "id": "--Mf7UASZnYl",
        "outputId": "51d3c2d9-7caa-49c6-9a08-ee7d0ff6c139"
      },
      "execution_count": 17,
      "outputs": [
        {
          "output_type": "execute_result",
          "data": {
            "text/plain": [
              "{'title': 'Palici',\n",
              " 'content': \"The Palici (Παλικοί in Greek), or Palaci, were a pair of indigenous Sicilian chthonic deities in Roman mythology, and to a lesser extent in Greek mythology. They are mentioned in Ovid's Metamorphoses V, 406, and in Virgil's Aeneid IX, 585. Their cult centered on three small lakes that emitted sulphurous vapors in the Palagonia plain, and as a result these twin brothers were associated with geysers and the underworld. There was also a shrine to the Palaci in Palacia, where people could subject themselves or others to tests of reliability through divine judgement; passing meant that an oath could be trusted. The mythological lineage of the Palici is uncertain; one legend made the Palici the sons of Zeus, or possibly Hephaestus, by Aetna or Thalia, but another claimed that the Palici were the sons of the Sicilian deity Adranus.\\n\"}"
            ]
          },
          "metadata": {},
          "execution_count": 17
        }
      ]
    },
    {
      "cell_type": "code",
      "source": [
        "treated_documents = window(documents)"
      ],
      "metadata": {
        "colab": {
          "base_uri": "https://localhost:8080/"
        },
        "id": "WowcC5zgZpDB",
        "outputId": "f42409dc-d7d4-4c6a-fbd0-216275643a01"
      },
      "execution_count": 18,
      "outputs": [
        {
          "output_type": "stream",
          "name": "stderr",
          "text": [
            "100%|██████████| 2164/2164 [01:19<00:00, 27.39it/s]\n"
          ]
        }
      ]
    },
    {
      "cell_type": "code",
      "source": [
        "treated_documents[0]"
      ],
      "metadata": {
        "colab": {
          "base_uri": "https://localhost:8080/"
        },
        "id": "qVEuXBklZqbW",
        "outputId": "b5c32482-d659-4be0-d931-10d0aac4ce84"
      },
      "execution_count": 19,
      "outputs": [
        {
          "output_type": "execute_result",
          "data": {
            "text/plain": [
              "{'title': 'Palici',\n",
              " 'contents': \"Palici. The Palici (Παλικοί in Greek), or Palaci, were a pair of indigenous Sicilian chthonic deities in Roman mythology, and to a lesser extent in Greek mythology. They are mentioned in Ovid's Metamorphoses V, 406, and in Virgil's Aeneid IX, 585. Their cult centered on three small lakes that emitted sulphurous vapors in the Palagonia plain, and as a result these twin brothers were associated with geysers and the underworld.\",\n",
              " 'segment': \"The Palici (Παλικοί in Greek), or Palaci, were a pair of indigenous Sicilian chthonic deities in Roman mythology, and to a lesser extent in Greek mythology. They are mentioned in Ovid's Metamorphoses V, 406, and in Virgil's Aeneid IX, 585. Their cult centered on three small lakes that emitted sulphurous vapors in the Palagonia plain, and as a result these twin brothers were associated with geysers and the underworld.\"}"
            ]
          },
          "metadata": {},
          "execution_count": 19
        }
      ]
    },
    {
      "cell_type": "code",
      "source": [
        "def create_indices(treated_documents):\n",
        "    dir_path = f\"{DATA_DIR}/iirc_index\"\n",
        "    if not os.path.exists(dir_path):\n",
        "        os.makedirs(dir_path)\n",
        "\n",
        "    with open(f\"{dir_path}/contents.jsonl\", 'w') as f:\n",
        "        for i, doc in enumerate(treated_documents):\n",
        "            doc['id'] = i\n",
        "            if doc['segment'] != \"\":\n",
        "                f.write(json.dumps(doc)+\"\\n\")\n",
        "\n",
        "    command = f\"python3 -m pyserini.index.lucene -collection JsonCollection -generator DefaultLuceneDocumentGenerator -threads 1 -input {dir_path} -index {DATA_INDEX_DIR} -storeRaw\"\n",
        "    result  = subprocess.run(command, shell = True, capture_output = True)\n",
        "\n",
        "    if (result.returncode == 0):\n",
        "        print(\"Indices criado com sucesso\")\n",
        "    else:\n",
        "        print(\"Erro ao criar o índice\")"
      ],
      "metadata": {
        "id": "s-fyiusbZvCB"
      },
      "execution_count": 20,
      "outputs": []
    },
    {
      "cell_type": "code",
      "source": [
        "create_indices(treated_documents)"
      ],
      "metadata": {
        "colab": {
          "base_uri": "https://localhost:8080/"
        },
        "id": "9k0-uWIXZ4lz",
        "outputId": "1219468c-0c4d-4436-bead-f93246041b2c"
      },
      "execution_count": 21,
      "outputs": [
        {
          "output_type": "stream",
          "name": "stdout",
          "text": [
            "Indices criado com sucesso\n"
          ]
        }
      ]
    },
    {
      "cell_type": "markdown",
      "source": [
        "## Recuperação dos documentos\n"
      ],
      "metadata": {
        "id": "CvznVV6G3uJw"
      }
    },
    {
      "cell_type": "markdown",
      "source": [
        "### BM25\n",
        "Traditional lexical models (e.g., BM25) using LuceneSearcher. \\\\\n",
        "Extraido do: https://github.com/castorini/pyserini"
      ],
      "metadata": {
        "id": "1FZnYJKO3xAX"
      }
    },
    {
      "cell_type": "code",
      "source": [
        "def execute_search(question, limit_by_query=100):\n",
        "    searcher = LuceneSearcher(DATA_INDEX_DIR)\n",
        "    ans      = []\n",
        "\n",
        "    hits = searcher.search(question, k=limit_by_query)\n",
        "    chosen = []\n",
        "    for hit in hits:\n",
        "        hit = json.loads(hit.lucene_document.get('raw'))\n",
        "        chosen.append(hit)\n",
        "\n",
        "    ans.append({\n",
        "        \"question\": question,\n",
        "        \"documents\": chosen\n",
        "    })\n",
        "\n",
        "    return ans"
      ],
      "metadata": {
        "id": "x0KgbPb8Z6Bc"
      },
      "execution_count": 22,
      "outputs": []
    },
    {
      "cell_type": "markdown",
      "source": [
        "## Treinamento"
      ],
      "metadata": {
        "id": "mLw9tSQ933AM"
      }
    },
    {
      "cell_type": "code",
      "source": [
        "ZERO_SHOT_PROMPT = \"Based on the following passages, answer the question presenting your reasoning. Let me know if there is no answer with \\\"Not enough information\\\". \"\n",
        "ZERO_SHOT_PROMPT += \"Your answer should be in this JSON format:{\\\"Reasoning\\\": \\\"your reasoning\\\", \\\"Answer\\\": \\\"your answer\\\"}:\\n\"\n",
        "\n",
        "save_file = \"qa_data.pickle\"\n",
        "\n",
        "if os.path.exists(save_file):\n",
        "    with open(save_file, 'rb') as f:\n",
        "        qa = pickle.load(f)\n",
        "else:\n",
        "    qa = {'question': [], 'answer': [], 'llm_answer': []}\n",
        "\n",
        "for item in tqdm(test_set):\n",
        "    questions  = item[\"questions\"]\n",
        "    item_title = item[\"title\"]\n",
        "    prompt = ZERO_SHOT_PROMPT\n",
        "\n",
        "    for q in questions:\n",
        "        if q['question'] in qa['question']:\n",
        "            continue\n",
        "\n",
        "        question = q['question']\n",
        "\n",
        "        hits = execute_search(question, limit_by_query=5)\n",
        "        for hit in hits:\n",
        "            for i, passage in enumerate(hit['documents']):\n",
        "                content = passage['contents']\n",
        "                prompt += f\"\\n\\nPassage {i+1}: {content}\"\n",
        "\n",
        "        prompt += f\"\\n\\nQuestion: {question}\\n\\n\"\n",
        "\n",
        "        if q['answer']['type'] == \"span\":\n",
        "            final_answer = \", \".join([answer_span['text'] for answer_span in q['answer'][\"answer_spans\"]])\n",
        "\n",
        "        elif q['answer']['type'] == \"value\":\n",
        "            final_answer = \"{0} {1}\".format(q['answer']['answer_value'],\n",
        "                                            q['answer']['answer_unit'])\n",
        "\n",
        "        elif q['answer']['type'] == \"binary\":\n",
        "            final_answer = q['answer']['answer_value']\n",
        "\n",
        "        elif q['answer']['type'] == \"none\":\n",
        "            final_answer = \"Not enough information\"\n",
        "\n",
        "        try:\n",
        "            llm_answer = model.generate_content(prompt)\n",
        "\n",
        "            qa['question'].append(question)\n",
        "            qa['answer'].append(final_answer)\n",
        "            qa['llm_answer'].append(llm_answer)\n",
        "\n",
        "            if len(qa['question']) % 5 == 0:\n",
        "                with open(save_file, 'wb') as f:\n",
        "                    pickle.dump(qa, f)\n",
        "\n",
        "            if i % 10 == 0:\n",
        "                sleep_time = random.uniform(1, 5)\n",
        "                time.sleep(sleep_time)\n",
        "        except:\n",
        "            time.sleep(30)\n",
        "\n",
        "with open(save_file, 'wb') as f:\n",
        "    pickle.dump(qa, f)"
      ],
      "metadata": {
        "colab": {
          "base_uri": "https://localhost:8080/",
          "height": 1000
        },
        "collapsed": true,
        "id": "Fw_IqWXPZ8Z1",
        "outputId": "8af30f43-e781-4d5a-8836-7418dd8c538d"
      },
      "execution_count": 23,
      "outputs": [
        {
          "output_type": "stream",
          "name": "stderr",
          "text": [
            "  1%|▏         | 2/150 [00:18<21:57,  8.90s/it]WARNING:tornado.access:429 POST /v1beta/models/gemini-1.5-pro-latest:generateContent?%24alt=json%3Benum-encoding%3Dint (127.0.0.1) 914.31ms\n",
            "  2%|▏         | 3/150 [00:49<46:30, 18.99s/it]WARNING:tornado.access:429 POST /v1beta/models/gemini-1.5-pro-latest:generateContent?%24alt=json%3Benum-encoding%3Dint (127.0.0.1) 2008.55ms\n",
            "  3%|▎         | 4/150 [01:31<1:08:52, 28.30s/it]WARNING:tornado.access:429 POST /v1beta/models/gemini-1.5-pro-latest:generateContent?%24alt=json%3Benum-encoding%3Dint (127.0.0.1) 866.36ms\n",
            "  4%|▍         | 6/150 [02:29<1:03:52, 26.62s/it]WARNING:tornado.access:429 POST /v1beta/models/gemini-1.5-pro-latest:generateContent?%24alt=json%3Benum-encoding%3Dint (127.0.0.1) 839.45ms\n",
            "  5%|▍         | 7/150 [03:00<1:06:47, 28.02s/it]WARNING:tornado.access:429 POST /v1beta/models/gemini-1.5-pro-latest:generateContent?%24alt=json%3Benum-encoding%3Dint (127.0.0.1) 1732.16ms\n",
            "  5%|▌         | 8/150 [03:42<1:16:42, 32.41s/it]WARNING:tornado.access:429 POST /v1beta/models/gemini-1.5-pro-latest:generateContent?%24alt=json%3Benum-encoding%3Dint (127.0.0.1) 1095.15ms\n",
            "WARNING:tornado.access:429 POST /v1beta/models/gemini-1.5-pro-latest:generateContent?%24alt=json%3Benum-encoding%3Dint (127.0.0.1) 1423.70ms\n",
            "  6%|▌         | 9/150 [04:48<1:40:58, 42.97s/it]WARNING:tornado.access:429 POST /v1beta/models/gemini-1.5-pro-latest:generateContent?%24alt=json%3Benum-encoding%3Dint (127.0.0.1) 591.82ms\n",
            "WARNING:tornado.access:429 POST /v1beta/models/gemini-1.5-pro-latest:generateContent?%24alt=json%3Benum-encoding%3Dint (127.0.0.1) 1395.43ms\n",
            "  7%|▋         | 11/150 [06:12<1:32:50, 40.08s/it]WARNING:tornado.access:429 POST /v1beta/models/gemini-1.5-pro-latest:generateContent?%24alt=json%3Benum-encoding%3Dint (127.0.0.1) 992.43ms\n",
            "  8%|▊         | 12/150 [06:46<1:27:56, 38.23s/it]WARNING:tornado.access:429 POST /v1beta/models/gemini-1.5-pro-latest:generateContent?%24alt=json%3Benum-encoding%3Dint (127.0.0.1) 2692.15ms\n",
            "  9%|▉         | 14/150 [07:29<1:03:15, 27.91s/it]WARNING:tornado.access:429 POST /v1beta/models/gemini-1.5-pro-latest:generateContent?%24alt=json%3Benum-encoding%3Dint (127.0.0.1) 811.79ms\n",
            "WARNING:tornado.access:429 POST /v1beta/models/gemini-1.5-pro-latest:generateContent?%24alt=json%3Benum-encoding%3Dint (127.0.0.1) 792.79ms\n",
            " 11%|█         | 16/150 [08:45<1:09:18, 31.03s/it]WARNING:tornado.access:429 POST /v1beta/models/gemini-1.5-pro-latest:generateContent?%24alt=json%3Benum-encoding%3Dint (127.0.0.1) 889.17ms\n",
            "WARNING:tornado.access:429 POST /v1beta/models/gemini-1.5-pro-latest:generateContent?%24alt=json%3Benum-encoding%3Dint (127.0.0.1) 1297.27ms\n",
            " 11%|█▏        | 17/150 [09:48<1:29:38, 40.44s/it]WARNING:tornado.access:429 POST /v1beta/models/gemini-1.5-pro-latest:generateContent?%24alt=json%3Benum-encoding%3Dint (127.0.0.1) 746.49ms\n",
            " 12%|█▏        | 18/150 [10:28<1:28:48, 40.37s/it]WARNING:tornado.access:429 POST /v1beta/models/gemini-1.5-pro-latest:generateContent?%24alt=json%3Benum-encoding%3Dint (127.0.0.1) 1623.23ms\n",
            " 13%|█▎        | 20/150 [11:06<1:00:42, 28.02s/it]WARNING:tornado.access:429 POST /v1beta/models/gemini-1.5-pro-latest:generateContent?%24alt=json%3Benum-encoding%3Dint (127.0.0.1) 690.56ms\n",
            " 14%|█▍        | 21/150 [11:43<1:06:11, 30.79s/it]WARNING:tornado.access:429 POST /v1beta/models/gemini-1.5-pro-latest:generateContent?%24alt=json%3Benum-encoding%3Dint (127.0.0.1) 1193.21ms\n",
            "WARNING:tornado.access:429 POST /v1beta/models/gemini-1.5-pro-latest:generateContent?%24alt=json%3Benum-encoding%3Dint (127.0.0.1) 661.64ms\n",
            "WARNING:tornado.access:429 POST /v1beta/models/gemini-1.5-pro-latest:generateContent?%24alt=json%3Benum-encoding%3Dint (127.0.0.1) 1305.11ms\n",
            " 15%|█▍        | 22/150 [13:38<1:59:15, 55.90s/it]WARNING:tornado.access:429 POST /v1beta/models/gemini-1.5-pro-latest:generateContent?%24alt=json%3Benum-encoding%3Dint (127.0.0.1) 966.25ms\n",
            " 15%|█▌        | 23/150 [14:14<1:46:07, 50.14s/it]WARNING:tornado.access:429 POST /v1beta/models/gemini-1.5-pro-latest:generateContent?%24alt=json%3Benum-encoding%3Dint (127.0.0.1) 966.18ms\n",
            " 16%|█▌        | 24/150 [14:45<1:33:14, 44.40s/it]WARNING:tornado.access:429 POST /v1beta/models/gemini-1.5-pro-latest:generateContent?%24alt=json%3Benum-encoding%3Dint (127.0.0.1) 1521.91ms\n",
            " 17%|█▋        | 26/150 [15:29<1:04:49, 31.36s/it]WARNING:tornado.access:429 POST /v1beta/models/gemini-1.5-pro-latest:generateContent?%24alt=json%3Benum-encoding%3Dint (127.0.0.1) 819.21ms\n",
            "WARNING:tornado.access:429 POST /v1beta/models/gemini-1.5-pro-latest:generateContent?%24alt=json%3Benum-encoding%3Dint (127.0.0.1) 1422.56ms\n",
            " 18%|█▊        | 27/150 [16:40<1:28:47, 43.31s/it]WARNING:tornado.access:429 POST /v1beta/models/gemini-1.5-pro-latest:generateContent?%24alt=json%3Benum-encoding%3Dint (127.0.0.1) 610.12ms\n",
            " 19%|█▊        | 28/150 [17:13<1:21:58, 40.32s/it]WARNING:tornado.access:429 POST /v1beta/models/gemini-1.5-pro-latest:generateContent?%24alt=json%3Benum-encoding%3Dint (127.0.0.1) 586.55ms\n",
            "WARNING:tornado.access:429 POST /v1beta/models/gemini-1.5-pro-latest:generateContent?%24alt=json%3Benum-encoding%3Dint (127.0.0.1) 643.64ms\n",
            " 20%|██        | 30/150 [18:32<1:13:16, 36.64s/it]WARNING:tornado.access:429 POST /v1beta/models/gemini-1.5-pro-latest:generateContent?%24alt=json%3Benum-encoding%3Dint (127.0.0.1) 891.25ms\n",
            " 22%|██▏       | 33/150 [19:13<38:53, 19.95s/it]WARNING:tornado.access:429 POST /v1beta/models/gemini-1.5-pro-latest:generateContent?%24alt=json%3Benum-encoding%3Dint (127.0.0.1) 592.18ms\n",
            " 23%|██▎       | 34/150 [19:47<46:22, 23.98s/it]WARNING:tornado.access:429 POST /v1beta/models/gemini-1.5-pro-latest:generateContent?%24alt=json%3Benum-encoding%3Dint (127.0.0.1) 1707.92ms\n",
            " 23%|██▎       | 35/150 [20:19<50:26, 26.31s/it]WARNING:tornado.access:429 POST /v1beta/models/gemini-1.5-pro-latest:generateContent?%24alt=json%3Benum-encoding%3Dint (127.0.0.1) 641.77ms\n",
            " 25%|██▍       | 37/150 [21:16<49:09, 26.11s/it]WARNING:tornado.access:429 POST /v1beta/models/gemini-1.5-pro-latest:generateContent?%24alt=json%3Benum-encoding%3Dint (127.0.0.1) 1880.01ms\n",
            " 25%|██▌       | 38/150 [21:53<54:46, 29.35s/it]WARNING:tornado.access:429 POST /v1beta/models/gemini-1.5-pro-latest:generateContent?%24alt=json%3Benum-encoding%3Dint (127.0.0.1) 1370.16ms\n",
            " 26%|██▌       | 39/150 [22:31<59:13, 32.01s/it]WARNING:tornado.access:429 POST /v1beta/models/gemini-1.5-pro-latest:generateContent?%24alt=json%3Benum-encoding%3Dint (127.0.0.1) 1824.75ms\n",
            "WARNING:tornado.access:429 POST /v1beta/models/gemini-1.5-pro-latest:generateContent?%24alt=json%3Benum-encoding%3Dint (127.0.0.1) 1471.81ms\n",
            " 27%|██▋       | 41/150 [23:46<58:59, 32.47s/it]  WARNING:tornado.access:429 POST /v1beta/models/gemini-1.5-pro-latest:generateContent?%24alt=json%3Benum-encoding%3Dint (127.0.0.1) 839.84ms\n",
            " 28%|██▊       | 42/150 [24:17<57:35, 32.00s/it]WARNING:tornado.access:429 POST /v1beta/models/gemini-1.5-pro-latest:generateContent?%24alt=json%3Benum-encoding%3Dint (127.0.0.1) 1545.91ms\n",
            " 29%|██▉       | 44/150 [24:55<42:56, 24.30s/it]WARNING:tornado.access:429 POST /v1beta/models/gemini-1.5-pro-latest:generateContent?%24alt=json%3Benum-encoding%3Dint (127.0.0.1) 534.38ms\n",
            " 31%|███       | 46/150 [25:40<37:27, 21.61s/it]WARNING:tornado.access:429 POST /v1beta/models/gemini-1.5-pro-latest:generateContent?%24alt=json%3Benum-encoding%3Dint (127.0.0.1) 1014.14ms\n",
            "WARNING:tornado.access:429 POST /v1beta/models/gemini-1.5-pro-latest:generateContent?%24alt=json%3Benum-encoding%3Dint (127.0.0.1) 534.20ms\n",
            " 31%|███▏      | 47/150 [26:49<1:01:30, 35.83s/it]WARNING:tornado.access:429 POST /v1beta/models/gemini-1.5-pro-latest:generateContent?%24alt=json%3Benum-encoding%3Dint (127.0.0.1) 508.17ms\n",
            "WARNING:tornado.access:429 POST /v1beta/models/gemini-1.5-pro-latest:generateContent?%24alt=json%3Benum-encoding%3Dint (127.0.0.1) 589.06ms\n",
            " 33%|███▎      | 49/150 [28:08<58:20, 34.65s/it]  WARNING:tornado.access:429 POST /v1beta/models/gemini-1.5-pro-latest:generateContent?%24alt=json%3Benum-encoding%3Dint (127.0.0.1) 688.29ms\n",
            "WARNING:tornado.access:429 POST /v1beta/models/gemini-1.5-pro-latest:generateContent?%24alt=json%3Benum-encoding%3Dint (127.0.0.1) 1369.18ms\n",
            " 35%|███▍      | 52/150 [29:26<39:37, 24.26s/it]WARNING:tornado.access:429 POST /v1beta/models/gemini-1.5-pro-latest:generateContent?%24alt=json%3Benum-encoding%3Dint (127.0.0.1) 840.11ms\n",
            "WARNING:tornado.access:429 POST /v1beta/models/gemini-1.5-pro-latest:generateContent?%24alt=json%3Benum-encoding%3Dint (127.0.0.1) 1398.34ms\n",
            " 36%|███▌      | 54/150 [30:34<42:50, 26.77s/it]WARNING:tornado.access:429 POST /v1beta/models/gemini-1.5-pro-latest:generateContent?%24alt=json%3Benum-encoding%3Dint (127.0.0.1) 687.40ms\n",
            " 38%|███▊      | 57/150 [31:18<26:13, 16.92s/it]WARNING:tornado.access:429 POST /v1beta/models/gemini-1.5-pro-latest:generateContent?%24alt=json%3Benum-encoding%3Dint (127.0.0.1) 889.96ms\n",
            "WARNING:tornado.access:429 POST /v1beta/models/gemini-1.5-pro-latest:generateContent?%24alt=json%3Benum-encoding%3Dint (127.0.0.1) 1218.00ms\n",
            "WARNING:tornado.access:429 POST /v1beta/models/gemini-1.5-pro-latest:generateContent?%24alt=json%3Benum-encoding%3Dint (127.0.0.1) 712.07ms\n",
            " 39%|███▉      | 59/150 [33:11<48:48, 32.18s/it]  WARNING:tornado.access:429 POST /v1beta/models/gemini-1.5-pro-latest:generateContent?%24alt=json%3Benum-encoding%3Dint (127.0.0.1) 661.24ms\n",
            " 40%|████      | 60/150 [33:45<49:00, 32.67s/it]WARNING:tornado.access:429 POST /v1beta/models/gemini-1.5-pro-latest:generateContent?%24alt=json%3Benum-encoding%3Dint (127.0.0.1) 587.46ms\n",
            " 41%|████▏     | 62/150 [34:25<36:53, 25.16s/it]WARNING:tornado.access:429 POST /v1beta/models/gemini-1.5-pro-latest:generateContent?%24alt=json%3Benum-encoding%3Dint (127.0.0.1) 865.62ms\n",
            "WARNING:tornado.access:429 POST /v1beta/models/gemini-1.5-pro-latest:generateContent?%24alt=json%3Benum-encoding%3Dint (127.0.0.1) 1300.35ms\n",
            " 42%|████▏     | 63/150 [35:40<57:55, 39.95s/it]WARNING:tornado.access:429 POST /v1beta/models/gemini-1.5-pro-latest:generateContent?%24alt=json%3Benum-encoding%3Dint (127.0.0.1) 1048.44ms\n",
            "WARNING:tornado.access:429 POST /v1beta/models/gemini-1.5-pro-latest:generateContent?%24alt=json%3Benum-encoding%3Dint (127.0.0.1) 637.56ms\n",
            " 43%|████▎     | 64/150 [36:47<1:08:51, 48.04s/it]WARNING:tornado.access:429 POST /v1beta/models/gemini-1.5-pro-latest:generateContent?%24alt=json%3Benum-encoding%3Dint (127.0.0.1) 611.67ms\n",
            " 44%|████▍     | 66/150 [37:28<45:50, 32.74s/it]  WARNING:tornado.access:429 POST /v1beta/models/gemini-1.5-pro-latest:generateContent?%24alt=json%3Benum-encoding%3Dint (127.0.0.1) 611.29ms\n",
            "WARNING:tornado.access:429 POST /v1beta/models/gemini-1.5-pro-latest:generateContent?%24alt=json%3Benum-encoding%3Dint (127.0.0.1) 1217.24ms\n",
            " 45%|████▍     | 67/150 [38:40<1:01:36, 44.54s/it]WARNING:tornado.access:429 POST /v1beta/models/gemini-1.5-pro-latest:generateContent?%24alt=json%3Benum-encoding%3Dint (127.0.0.1) 584.53ms\n",
            "WARNING:tornado.access:429 POST /v1beta/models/gemini-1.5-pro-latest:generateContent?%24alt=json%3Benum-encoding%3Dint (127.0.0.1) 1323.52ms\n",
            "WARNING:tornado.access:429 POST /v1beta/models/gemini-1.5-pro-latest:generateContent?%24alt=json%3Benum-encoding%3Dint (127.0.0.1) 755.87ms\n",
            " 45%|████▌     | 68/150 [40:36<1:30:24, 66.16s/it]WARNING:tornado.access:429 POST /v1beta/models/gemini-1.5-pro-latest:generateContent?%24alt=json%3Benum-encoding%3Dint (127.0.0.1) 563.29ms\n",
            "WARNING:tornado.access:429 POST /v1beta/models/gemini-1.5-pro-latest:generateContent?%24alt=json%3Benum-encoding%3Dint (127.0.0.1) 1446.32ms\n",
            " 46%|████▌     | 69/150 [41:57<1:34:58, 70.35s/it]WARNING:tornado.access:429 POST /v1beta/models/gemini-1.5-pro-latest:generateContent?%24alt=json%3Benum-encoding%3Dint (127.0.0.1) 963.73ms\n",
            " 47%|████▋     | 70/150 [42:31<1:19:27, 59.60s/it]WARNING:tornado.access:429 POST /v1beta/models/gemini-1.5-pro-latest:generateContent?%24alt=json%3Benum-encoding%3Dint (127.0.0.1) 1091.36ms\n",
            " 48%|████▊     | 72/150 [43:13<50:04, 38.52s/it]  WARNING:tornado.access:429 POST /v1beta/models/gemini-1.5-pro-latest:generateContent?%24alt=json%3Benum-encoding%3Dint (127.0.0.1) 862.48ms\n",
            " 49%|████▊     | 73/150 [43:43<46:29, 36.23s/it]WARNING:tornado.access:429 POST /v1beta/models/gemini-1.5-pro-latest:generateContent?%24alt=json%3Benum-encoding%3Dint (127.0.0.1) 1724.83ms\n",
            " 50%|█████     | 75/150 [44:26<34:40, 27.73s/it]WARNING:tornado.access:429 POST /v1beta/models/gemini-1.5-pro-latest:generateContent?%24alt=json%3Benum-encoding%3Dint (127.0.0.1) 1064.24ms\n",
            " 51%|█████     | 76/150 [44:57<35:27, 28.75s/it]WARNING:tornado.access:429 POST /v1beta/models/gemini-1.5-pro-latest:generateContent?%24alt=json%3Benum-encoding%3Dint (127.0.0.1) 1648.25ms\n",
            " 52%|█████▏    | 78/150 [45:42<28:24, 23.68s/it]WARNING:tornado.access:429 POST /v1beta/models/gemini-1.5-pro-latest:generateContent?%24alt=json%3Benum-encoding%3Dint (127.0.0.1) 887.07ms\n",
            "WARNING:tornado.access:429 POST /v1beta/models/gemini-1.5-pro-latest:generateContent?%24alt=json%3Benum-encoding%3Dint (127.0.0.1) 559.25ms\n",
            " 53%|█████▎    | 79/150 [46:51<44:19, 37.46s/it]WARNING:tornado.access:429 POST /v1beta/models/gemini-1.5-pro-latest:generateContent?%24alt=json%3Benum-encoding%3Dint (127.0.0.1) 608.88ms\n",
            " 53%|█████▎    | 80/150 [47:25<42:17, 36.25s/it]WARNING:tornado.access:429 POST /v1beta/models/gemini-1.5-pro-latest:generateContent?%24alt=json%3Benum-encoding%3Dint (127.0.0.1) 585.65ms\n",
            "WARNING:tornado.access:429 POST /v1beta/models/gemini-1.5-pro-latest:generateContent?%24alt=json%3Benum-encoding%3Dint (127.0.0.1) 587.26ms\n",
            " 55%|█████▌    | 83/150 [48:44<27:35, 24.71s/it]WARNING:tornado.access:429 POST /v1beta/models/gemini-1.5-pro-latest:generateContent?%24alt=json%3Benum-encoding%3Dint (127.0.0.1) 644.55ms\n",
            "WARNING:tornado.access:429 POST /v1beta/models/gemini-1.5-pro-latest:generateContent?%24alt=json%3Benum-encoding%3Dint (127.0.0.1) 1372.31ms\n",
            " 56%|█████▌    | 84/150 [50:00<44:15, 40.23s/it]WARNING:tornado.access:429 POST /v1beta/models/gemini-1.5-pro-latest:generateContent?%24alt=json%3Benum-encoding%3Dint (127.0.0.1) 609.73ms\n",
            " 57%|█████▋    | 86/150 [50:41<30:43, 28.81s/it]WARNING:tornado.access:429 POST /v1beta/models/gemini-1.5-pro-latest:generateContent?%24alt=json%3Benum-encoding%3Dint (127.0.0.1) 533.65ms\n",
            "WARNING:tornado.access:429 POST /v1beta/models/gemini-1.5-pro-latest:generateContent?%24alt=json%3Benum-encoding%3Dint (127.0.0.1) 1169.45ms\n",
            " 58%|█████▊    | 87/150 [51:50<43:00, 40.95s/it]WARNING:tornado.access:429 POST /v1beta/models/gemini-1.5-pro-latest:generateContent?%24alt=json%3Benum-encoding%3Dint (127.0.0.1) 586.00ms\n",
            " 59%|█████▊    | 88/150 [52:29<41:43, 40.38s/it]WARNING:tornado.access:429 POST /v1beta/models/gemini-1.5-pro-latest:generateContent?%24alt=json%3Benum-encoding%3Dint (127.0.0.1) 609.90ms\n",
            " 59%|█████▉    | 89/150 [53:02<38:55, 38.29s/it]WARNING:tornado.access:429 POST /v1beta/models/gemini-1.5-pro-latest:generateContent?%24alt=json%3Benum-encoding%3Dint (127.0.0.1) 1547.84ms\n",
            " 61%|██████    | 91/150 [53:42<26:48, 27.26s/it]WARNING:tornado.access:429 POST /v1beta/models/gemini-1.5-pro-latest:generateContent?%24alt=json%3Benum-encoding%3Dint (127.0.0.1) 661.61ms\n",
            " 61%|██████▏   | 92/150 [54:20<29:31, 30.54s/it]WARNING:tornado.access:429 POST /v1beta/models/gemini-1.5-pro-latest:generateContent?%24alt=json%3Benum-encoding%3Dint (127.0.0.1) 887.36ms\n",
            " 62%|██████▏   | 93/150 [54:58<31:11, 32.84s/it]WARNING:tornado.access:429 POST /v1beta/models/gemini-1.5-pro-latest:generateContent?%24alt=json%3Benum-encoding%3Dint (127.0.0.1) 888.61ms\n",
            " 63%|██████▎   | 94/150 [55:34<31:35, 33.86s/it]WARNING:tornado.access:429 POST /v1beta/models/gemini-1.5-pro-latest:generateContent?%24alt=json%3Benum-encoding%3Dint (127.0.0.1) 661.16ms\n",
            "WARNING:tornado.access:429 POST /v1beta/models/gemini-1.5-pro-latest:generateContent?%24alt=json%3Benum-encoding%3Dint (127.0.0.1) 1396.48ms\n",
            " 63%|██████▎   | 95/150 [56:57<44:32, 48.59s/it]WARNING:tornado.access:429 POST /v1beta/models/gemini-1.5-pro-latest:generateContent?%24alt=json%3Benum-encoding%3Dint (127.0.0.1) 513.85ms\n",
            "WARNING:tornado.access:429 POST /v1beta/models/gemini-1.5-pro-latest:generateContent?%24alt=json%3Benum-encoding%3Dint (127.0.0.1) 1372.32ms\n",
            " 64%|██████▍   | 96/150 [58:19<52:48, 58.67s/it]WARNING:tornado.access:429 POST /v1beta/models/gemini-1.5-pro-latest:generateContent?%24alt=json%3Benum-encoding%3Dint (127.0.0.1) 1023.19ms\n",
            " 65%|██████▌   | 98/150 [58:58<32:06, 37.05s/it]WARNING:tornado.access:429 POST /v1beta/models/gemini-1.5-pro-latest:generateContent?%24alt=json%3Benum-encoding%3Dint (127.0.0.1) 587.45ms\n",
            " 67%|██████▋   | 100/150 [59:42<23:20, 28.01s/it]WARNING:tornado.access:429 POST /v1beta/models/gemini-1.5-pro-latest:generateContent?%24alt=json%3Benum-encoding%3Dint (127.0.0.1) 963.24ms\n",
            " 67%|██████▋   | 101/150 [1:00:13<23:36, 28.92s/it]WARNING:tornado.access:429 POST /v1beta/models/gemini-1.5-pro-latest:generateContent?%24alt=json%3Benum-encoding%3Dint (127.0.0.1) 1776.72ms\n",
            " 69%|██████▊   | 103/150 [1:00:48<17:12, 21.96s/it]WARNING:tornado.access:429 POST /v1beta/models/gemini-1.5-pro-latest:generateContent?%24alt=json%3Benum-encoding%3Dint (127.0.0.1) 586.76ms\n",
            "WARNING:tornado.access:429 POST /v1beta/models/gemini-1.5-pro-latest:generateContent?%24alt=json%3Benum-encoding%3Dint (127.0.0.1) 1242.66ms\n",
            " 70%|███████   | 105/150 [1:02:09<21:34, 28.76s/it]WARNING:tornado.access:429 POST /v1beta/models/gemini-1.5-pro-latest:generateContent?%24alt=json%3Benum-encoding%3Dint (127.0.0.1) 939.45ms\n",
            " 72%|███████▏  | 108/150 [1:02:50<11:49, 16.90s/it]WARNING:tornado.access:429 POST /v1beta/models/gemini-1.5-pro-latest:generateContent?%24alt=json%3Benum-encoding%3Dint (127.0.0.1) 893.25ms\n",
            " 73%|███████▎  | 109/150 [1:03:25<15:13, 22.27s/it]WARNING:tornado.access:429 POST /v1beta/models/gemini-1.5-pro-latest:generateContent?%24alt=json%3Benum-encoding%3Dint (127.0.0.1) 812.01ms\n",
            " 74%|███████▍  | 111/150 [1:04:06<12:49, 19.72s/it]WARNING:tornado.access:429 POST /v1beta/models/gemini-1.5-pro-latest:generateContent?%24alt=json%3Benum-encoding%3Dint (127.0.0.1) 938.87ms\n",
            " 75%|███████▌  | 113/150 [1:04:49<12:19, 19.99s/it]WARNING:tornado.access:429 POST /v1beta/models/gemini-1.5-pro-latest:generateContent?%24alt=json%3Benum-encoding%3Dint (127.0.0.1) 820.46ms\n",
            "WARNING:tornado.access:429 POST /v1beta/models/gemini-1.5-pro-latest:generateContent?%24alt=json%3Benum-encoding%3Dint (127.0.0.1) 1268.09ms\n",
            " 76%|███████▌  | 114/150 [1:05:52<19:35, 32.65s/it]WARNING:tornado.access:429 POST /v1beta/models/gemini-1.5-pro-latest:generateContent?%24alt=json%3Benum-encoding%3Dint (127.0.0.1) 636.36ms\n",
            " 77%|███████▋  | 116/150 [1:06:48<16:17, 28.76s/it]WARNING:tornado.access:429 POST /v1beta/models/gemini-1.5-pro-latest:generateContent?%24alt=json%3Benum-encoding%3Dint (127.0.0.1) 585.15ms\n",
            "WARNING:tornado.access:429 POST /v1beta/models/gemini-1.5-pro-latest:generateContent?%24alt=json%3Benum-encoding%3Dint (127.0.0.1) 1296.39ms\n",
            " 78%|███████▊  | 117/150 [1:07:58<22:38, 41.16s/it]WARNING:tornado.access:429 POST /v1beta/models/gemini-1.5-pro-latest:generateContent?%24alt=json%3Benum-encoding%3Dint (127.0.0.1) 613.01ms\n",
            " 79%|███████▊  | 118/150 [1:08:36<21:31, 40.36s/it]WARNING:tornado.access:429 POST /v1beta/models/gemini-1.5-pro-latest:generateContent?%24alt=json%3Benum-encoding%3Dint (127.0.0.1) 609.67ms\n",
            "WARNING:tornado.access:429 POST /v1beta/models/gemini-1.5-pro-latest:generateContent?%24alt=json%3Benum-encoding%3Dint (127.0.0.1) 1400.38ms\n",
            " 80%|████████  | 120/150 [1:09:53<18:11, 36.38s/it]WARNING:tornado.access:429 POST /v1beta/models/gemini-1.5-pro-latest:generateContent?%24alt=json%3Benum-encoding%3Dint (127.0.0.1) 762.08ms\n",
            " 81%|████████▏ | 122/150 [1:10:38<12:53, 27.63s/it]WARNING:tornado.access:429 POST /v1beta/models/gemini-1.5-pro-latest:generateContent?%24alt=json%3Benum-encoding%3Dint (127.0.0.1) 484.24ms\n",
            "WARNING:tornado.access:429 POST /v1beta/models/gemini-1.5-pro-latest:generateContent?%24alt=json%3Benum-encoding%3Dint (127.0.0.1) 1166.76ms\n",
            " 82%|████████▏ | 123/150 [1:11:56<19:15, 42.81s/it]WARNING:tornado.access:429 POST /v1beta/models/gemini-1.5-pro-latest:generateContent?%24alt=json%3Benum-encoding%3Dint (127.0.0.1) 938.76ms\n",
            "WARNING:tornado.access:429 POST /v1beta/models/gemini-1.5-pro-latest:generateContent?%24alt=json%3Benum-encoding%3Dint (127.0.0.1) 611.04ms\n",
            " 83%|████████▎ | 124/150 [1:13:07<22:16, 51.40s/it]WARNING:tornado.access:429 POST /v1beta/models/gemini-1.5-pro-latest:generateContent?%24alt=json%3Benum-encoding%3Dint (127.0.0.1) 873.08ms\n",
            " 83%|████████▎ | 125/150 [1:13:55<20:56, 50.28s/it]WARNING:tornado.access:429 POST /v1beta/models/gemini-1.5-pro-latest:generateContent?%24alt=json%3Benum-encoding%3Dint (127.0.0.1) 636.49ms\n",
            " 84%|████████▍ | 126/150 [1:14:33<18:35, 46.47s/it]WARNING:tornado.access:429 POST /v1beta/models/gemini-1.5-pro-latest:generateContent?%24alt=json%3Benum-encoding%3Dint (127.0.0.1) 918.57ms\n",
            " 85%|████████▍ | 127/150 [1:15:15<17:21, 45.26s/it]WARNING:tornado.access:429 POST /v1beta/models/gemini-1.5-pro-latest:generateContent?%24alt=json%3Benum-encoding%3Dint (127.0.0.1) 1039.51ms\n",
            " 87%|████████▋ | 130/150 [1:15:55<07:24, 22.24s/it]WARNING:tornado.access:429 POST /v1beta/models/gemini-1.5-pro-latest:generateContent?%24alt=json%3Benum-encoding%3Dint (127.0.0.1) 888.91ms\n",
            " 87%|████████▋ | 131/150 [1:16:26<07:52, 24.85s/it]WARNING:tornado.access:429 POST /v1beta/models/gemini-1.5-pro-latest:generateContent?%24alt=json%3Benum-encoding%3Dint (127.0.0.1) 1652.49ms\n",
            " 89%|████████▊ | 133/150 [1:17:10<06:13, 21.97s/it]WARNING:tornado.access:429 POST /v1beta/models/gemini-1.5-pro-latest:generateContent?%24alt=json%3Benum-encoding%3Dint (127.0.0.1) 963.32ms\n",
            " 90%|█████████ | 135/150 [1:17:59<05:41, 22.78s/it]WARNING:tornado.access:429 POST /v1beta/models/gemini-1.5-pro-latest:generateContent?%24alt=json%3Benum-encoding%3Dint (127.0.0.1) 913.44ms\n",
            "WARNING:tornado.access:429 POST /v1beta/models/gemini-1.5-pro-latest:generateContent?%24alt=json%3Benum-encoding%3Dint (127.0.0.1) 1299.37ms\n",
            " 91%|█████████ | 136/150 [1:19:16<09:05, 38.94s/it]WARNING:tornado.access:429 POST /v1beta/models/gemini-1.5-pro-latest:generateContent?%24alt=json%3Benum-encoding%3Dint (127.0.0.1) 994.04ms\n",
            " 91%|█████████▏| 137/150 [1:19:47<07:55, 36.57s/it]WARNING:tornado.access:429 POST /v1beta/models/gemini-1.5-pro-latest:generateContent?%24alt=json%3Benum-encoding%3Dint (127.0.0.1) 534.00ms\n",
            " 92%|█████████▏| 138/150 [1:20:28<07:36, 38.05s/it]WARNING:tornado.access:429 POST /v1beta/models/gemini-1.5-pro-latest:generateContent?%24alt=json%3Benum-encoding%3Dint (127.0.0.1) 2254.23ms\n",
            " 93%|█████████▎| 140/150 [1:21:14<04:53, 29.38s/it]WARNING:tornado.access:429 POST /v1beta/models/gemini-1.5-pro-latest:generateContent?%24alt=json%3Benum-encoding%3Dint (127.0.0.1) 1698.84ms\n",
            " 95%|█████████▌| 143/150 [1:21:55<01:59, 17.05s/it]WARNING:tornado.access:429 POST /v1beta/models/gemini-1.5-pro-latest:generateContent?%24alt=json%3Benum-encoding%3Dint (127.0.0.1) 1697.64ms\n",
            " 96%|█████████▌| 144/150 [1:22:27<02:08, 21.46s/it]WARNING:tornado.access:429 POST /v1beta/models/gemini-1.5-pro-latest:generateContent?%24alt=json%3Benum-encoding%3Dint (127.0.0.1) 2285.88ms\n",
            " 97%|█████████▋| 145/150 [1:23:07<02:14, 26.87s/it]WARNING:tornado.access:429 POST /v1beta/models/gemini-1.5-pro-latest:generateContent?%24alt=json%3Benum-encoding%3Dint (127.0.0.1) 889.95ms\n",
            " 98%|█████████▊| 147/150 [1:23:55<01:11, 23.99s/it]WARNING:tornado.access:429 POST /v1beta/models/gemini-1.5-pro-latest:generateContent?%24alt=json%3Benum-encoding%3Dint (127.0.0.1) 1144.06ms\n",
            " 99%|█████████▊| 148/150 [1:24:31<00:54, 27.36s/it]WARNING:tornado.access:429 POST /v1beta/models/gemini-1.5-pro-latest:generateContent?%24alt=json%3Benum-encoding%3Dint (127.0.0.1) 863.82ms\n",
            " 99%|█████████▉| 149/150 [1:25:06<00:29, 29.78s/it]WARNING:tornado.access:429 POST /v1beta/models/gemini-1.5-pro-latest:generateContent?%24alt=json%3Benum-encoding%3Dint (127.0.0.1) 4380.27ms\n",
            "100%|██████████| 150/150 [1:25:51<00:00, 34.34s/it]\n"
          ]
        }
      ]
    },
    {
      "cell_type": "markdown",
      "source": [
        "## Mostramos as respostas do Gemini"
      ],
      "metadata": {
        "id": "wgfSJoNl372O"
      }
    },
    {
      "cell_type": "code",
      "source": [
        "import pandas as pd\n",
        "\n",
        "json_pattern = r'{.*?}'\n",
        "rea_pattern  = r'\"Reasoning\":\\s*\"([^\"]+)\"'\n",
        "ans_pattern  = r'\"Answer\":\\s*\"([^\"]+)\"'\n",
        "data = []\n",
        "for q, a, la in zip(qa['question'], qa[\"answer\"], qa['llm_answer']):\n",
        "\n",
        "    match = re.search(json_pattern, la.text , re.DOTALL)\n",
        "    if match:\n",
        "        json_response = match.group()\n",
        "\n",
        "        rea_match = re.search(rea_pattern, json_response)\n",
        "        if rea_match:\n",
        "            llm_reasoning = rea_match.group(0).split(\": \")[1].replace(\"\\\"\",\"\")\n",
        "        else:\n",
        "            llm_reasoning = 'ERRO na resposta do LLM'\n",
        "\n",
        "        ans_match = re.search(ans_pattern, json_response)\n",
        "        if ans_match:\n",
        "            llm_answer = ans_match.group(0).split(\": \")[1].replace(\"\\\"\",\"\")\n",
        "        else:\n",
        "            llm_answer = 'ERRO na resposta do LLM'\n",
        "\n",
        "    else:\n",
        "        print(\"JSON não encontrado na resposta.\")\n",
        "        llm_answer = 'ERRO na resposta do LLM'\n",
        "        llm_reasoning = 'ERRO na resposta do LLM'\n",
        "\n",
        "    row = {'question': q,\n",
        "           'answer': a,\n",
        "           'llm_answer': llm_answer,\n",
        "           'reasoning': llm_reasoning }\n",
        "\n",
        "    data.append(row)\n",
        "\n",
        "df = pd.DataFrame(data)\n",
        "df.to_csv('resultado.csv', index=False)\n",
        "df"
      ],
      "metadata": {
        "colab": {
          "base_uri": "https://localhost:8080/",
          "height": 424
        },
        "id": "t5dk9JMMaKSN",
        "outputId": "d110da48-51c3-42e8-9b3a-0ada58f6e650"
      },
      "execution_count": 68,
      "outputs": [
        {
          "output_type": "execute_result",
          "data": {
            "text/plain": [
              "                                              question  \\\n",
              "0            What is Zeus know for in Greek mythology?   \n",
              "1    How long had the First World War been over whe...   \n",
              "2    How old was Messe when the First World War sta...   \n",
              "3    Who was the manager for Hull City when Brunt s...   \n",
              "4    Which stadium where Brunt played can hold more...   \n",
              "..                                                 ...   \n",
              "247  Was Rao alive when Atal Bihari Vajpayee was pr...   \n",
              "248  Was the Ford Dagenham plant still in operation...   \n",
              "249  For how many years was Corinth goverened by th...   \n",
              "250  How many weeks did \"What Hurts the Most\" spend...   \n",
              "251  How many weeks total did \"Waiting on the World...   \n",
              "\n",
              "                     answer  \\\n",
              "0       sky and thunder god   \n",
              "1                   5 years   \n",
              "2                  30 years   \n",
              "3    Not enough information   \n",
              "4           White Hart Lane   \n",
              "..                      ...   \n",
              "247                     yes   \n",
              "248                     yes   \n",
              "249               185 years   \n",
              "250  Not enough information   \n",
              "251                41 weeks   \n",
              "\n",
              "                                            llm_answer  \\\n",
              "0    Zeus is known as a powerful leader of the Gree...   \n",
              "1                                              5 years   \n",
              "2                                                   31   \n",
              "3                               Not enough information   \n",
              "4                               Not enough information   \n",
              "..                                                 ...   \n",
              "247                                                 No   \n",
              "248                                                Yes   \n",
              "249                             Not enough information   \n",
              "250                             Not enough information   \n",
              "251                                           41 weeks   \n",
              "\n",
              "                                             reasoning  \n",
              "0    Passages 1, 2, 3, and 5 all describe Zeus as a...  \n",
              "1    Passage 1 states that Messe fought in World Wa...  \n",
              "2    Passage 1 states that Messe was born in 1883 a...  \n",
              "3    While the passage states that Brunt scored his...  \n",
              "4    Passage 1 mentions that Chris Brunt returned t...  \n",
              "..                                                 ...  \n",
              "247                            Passage 2 states that \\  \n",
              "248  Passage 2 states that Dagenham became part of ...  \n",
              "249  The provided text states that Corinth became p...  \n",
              "250                            Passage 3 states that \\  \n",
              "251                            Passage 5 states that \\  \n",
              "\n",
              "[252 rows x 4 columns]"
            ],
            "text/html": [
              "\n",
              "  <div id=\"df-d008cb3c-b203-4e69-9d9b-85139a1b4966\" class=\"colab-df-container\">\n",
              "    <div>\n",
              "<style scoped>\n",
              "    .dataframe tbody tr th:only-of-type {\n",
              "        vertical-align: middle;\n",
              "    }\n",
              "\n",
              "    .dataframe tbody tr th {\n",
              "        vertical-align: top;\n",
              "    }\n",
              "\n",
              "    .dataframe thead th {\n",
              "        text-align: right;\n",
              "    }\n",
              "</style>\n",
              "<table border=\"1\" class=\"dataframe\">\n",
              "  <thead>\n",
              "    <tr style=\"text-align: right;\">\n",
              "      <th></th>\n",
              "      <th>question</th>\n",
              "      <th>answer</th>\n",
              "      <th>llm_answer</th>\n",
              "      <th>reasoning</th>\n",
              "    </tr>\n",
              "  </thead>\n",
              "  <tbody>\n",
              "    <tr>\n",
              "      <th>0</th>\n",
              "      <td>What is Zeus know for in Greek mythology?</td>\n",
              "      <td>sky and thunder god</td>\n",
              "      <td>Zeus is known as a powerful leader of the Gree...</td>\n",
              "      <td>Passages 1, 2, 3, and 5 all describe Zeus as a...</td>\n",
              "    </tr>\n",
              "    <tr>\n",
              "      <th>1</th>\n",
              "      <td>How long had the First World War been over whe...</td>\n",
              "      <td>5 years</td>\n",
              "      <td>5 years</td>\n",
              "      <td>Passage 1 states that Messe fought in World Wa...</td>\n",
              "    </tr>\n",
              "    <tr>\n",
              "      <th>2</th>\n",
              "      <td>How old was Messe when the First World War sta...</td>\n",
              "      <td>30 years</td>\n",
              "      <td>31</td>\n",
              "      <td>Passage 1 states that Messe was born in 1883 a...</td>\n",
              "    </tr>\n",
              "    <tr>\n",
              "      <th>3</th>\n",
              "      <td>Who was the manager for Hull City when Brunt s...</td>\n",
              "      <td>Not enough information</td>\n",
              "      <td>Not enough information</td>\n",
              "      <td>While the passage states that Brunt scored his...</td>\n",
              "    </tr>\n",
              "    <tr>\n",
              "      <th>4</th>\n",
              "      <td>Which stadium where Brunt played can hold more...</td>\n",
              "      <td>White Hart Lane</td>\n",
              "      <td>Not enough information</td>\n",
              "      <td>Passage 1 mentions that Chris Brunt returned t...</td>\n",
              "    </tr>\n",
              "    <tr>\n",
              "      <th>...</th>\n",
              "      <td>...</td>\n",
              "      <td>...</td>\n",
              "      <td>...</td>\n",
              "      <td>...</td>\n",
              "    </tr>\n",
              "    <tr>\n",
              "      <th>247</th>\n",
              "      <td>Was Rao alive when Atal Bihari Vajpayee was pr...</td>\n",
              "      <td>yes</td>\n",
              "      <td>No</td>\n",
              "      <td>Passage 2 states that \\</td>\n",
              "    </tr>\n",
              "    <tr>\n",
              "      <th>248</th>\n",
              "      <td>Was the Ford Dagenham plant still in operation...</td>\n",
              "      <td>yes</td>\n",
              "      <td>Yes</td>\n",
              "      <td>Passage 2 states that Dagenham became part of ...</td>\n",
              "    </tr>\n",
              "    <tr>\n",
              "      <th>249</th>\n",
              "      <td>For how many years was Corinth goverened by th...</td>\n",
              "      <td>185 years</td>\n",
              "      <td>Not enough information</td>\n",
              "      <td>The provided text states that Corinth became p...</td>\n",
              "    </tr>\n",
              "    <tr>\n",
              "      <th>250</th>\n",
              "      <td>How many weeks did \"What Hurts the Most\" spend...</td>\n",
              "      <td>Not enough information</td>\n",
              "      <td>Not enough information</td>\n",
              "      <td>Passage 3 states that \\</td>\n",
              "    </tr>\n",
              "    <tr>\n",
              "      <th>251</th>\n",
              "      <td>How many weeks total did \"Waiting on the World...</td>\n",
              "      <td>41 weeks</td>\n",
              "      <td>41 weeks</td>\n",
              "      <td>Passage 5 states that \\</td>\n",
              "    </tr>\n",
              "  </tbody>\n",
              "</table>\n",
              "<p>252 rows × 4 columns</p>\n",
              "</div>\n",
              "    <div class=\"colab-df-buttons\">\n",
              "\n",
              "  <div class=\"colab-df-container\">\n",
              "    <button class=\"colab-df-convert\" onclick=\"convertToInteractive('df-d008cb3c-b203-4e69-9d9b-85139a1b4966')\"\n",
              "            title=\"Convert this dataframe to an interactive table.\"\n",
              "            style=\"display:none;\">\n",
              "\n",
              "  <svg xmlns=\"http://www.w3.org/2000/svg\" height=\"24px\" viewBox=\"0 -960 960 960\">\n",
              "    <path d=\"M120-120v-720h720v720H120Zm60-500h600v-160H180v160Zm220 220h160v-160H400v160Zm0 220h160v-160H400v160ZM180-400h160v-160H180v160Zm440 0h160v-160H620v160ZM180-180h160v-160H180v160Zm440 0h160v-160H620v160Z\"/>\n",
              "  </svg>\n",
              "    </button>\n",
              "\n",
              "  <style>\n",
              "    .colab-df-container {\n",
              "      display:flex;\n",
              "      gap: 12px;\n",
              "    }\n",
              "\n",
              "    .colab-df-convert {\n",
              "      background-color: #E8F0FE;\n",
              "      border: none;\n",
              "      border-radius: 50%;\n",
              "      cursor: pointer;\n",
              "      display: none;\n",
              "      fill: #1967D2;\n",
              "      height: 32px;\n",
              "      padding: 0 0 0 0;\n",
              "      width: 32px;\n",
              "    }\n",
              "\n",
              "    .colab-df-convert:hover {\n",
              "      background-color: #E2EBFA;\n",
              "      box-shadow: 0px 1px 2px rgba(60, 64, 67, 0.3), 0px 1px 3px 1px rgba(60, 64, 67, 0.15);\n",
              "      fill: #174EA6;\n",
              "    }\n",
              "\n",
              "    .colab-df-buttons div {\n",
              "      margin-bottom: 4px;\n",
              "    }\n",
              "\n",
              "    [theme=dark] .colab-df-convert {\n",
              "      background-color: #3B4455;\n",
              "      fill: #D2E3FC;\n",
              "    }\n",
              "\n",
              "    [theme=dark] .colab-df-convert:hover {\n",
              "      background-color: #434B5C;\n",
              "      box-shadow: 0px 1px 3px 1px rgba(0, 0, 0, 0.15);\n",
              "      filter: drop-shadow(0px 1px 2px rgba(0, 0, 0, 0.3));\n",
              "      fill: #FFFFFF;\n",
              "    }\n",
              "  </style>\n",
              "\n",
              "    <script>\n",
              "      const buttonEl =\n",
              "        document.querySelector('#df-d008cb3c-b203-4e69-9d9b-85139a1b4966 button.colab-df-convert');\n",
              "      buttonEl.style.display =\n",
              "        google.colab.kernel.accessAllowed ? 'block' : 'none';\n",
              "\n",
              "      async function convertToInteractive(key) {\n",
              "        const element = document.querySelector('#df-d008cb3c-b203-4e69-9d9b-85139a1b4966');\n",
              "        const dataTable =\n",
              "          await google.colab.kernel.invokeFunction('convertToInteractive',\n",
              "                                                    [key], {});\n",
              "        if (!dataTable) return;\n",
              "\n",
              "        const docLinkHtml = 'Like what you see? Visit the ' +\n",
              "          '<a target=\"_blank\" href=https://colab.research.google.com/notebooks/data_table.ipynb>data table notebook</a>'\n",
              "          + ' to learn more about interactive tables.';\n",
              "        element.innerHTML = '';\n",
              "        dataTable['output_type'] = 'display_data';\n",
              "        await google.colab.output.renderOutput(dataTable, element);\n",
              "        const docLink = document.createElement('div');\n",
              "        docLink.innerHTML = docLinkHtml;\n",
              "        element.appendChild(docLink);\n",
              "      }\n",
              "    </script>\n",
              "  </div>\n",
              "\n",
              "\n",
              "<div id=\"df-6476e72b-9185-4224-b730-7825d6b93dd0\">\n",
              "  <button class=\"colab-df-quickchart\" onclick=\"quickchart('df-6476e72b-9185-4224-b730-7825d6b93dd0')\"\n",
              "            title=\"Suggest charts\"\n",
              "            style=\"display:none;\">\n",
              "\n",
              "<svg xmlns=\"http://www.w3.org/2000/svg\" height=\"24px\"viewBox=\"0 0 24 24\"\n",
              "     width=\"24px\">\n",
              "    <g>\n",
              "        <path d=\"M19 3H5c-1.1 0-2 .9-2 2v14c0 1.1.9 2 2 2h14c1.1 0 2-.9 2-2V5c0-1.1-.9-2-2-2zM9 17H7v-7h2v7zm4 0h-2V7h2v10zm4 0h-2v-4h2v4z\"/>\n",
              "    </g>\n",
              "</svg>\n",
              "  </button>\n",
              "\n",
              "<style>\n",
              "  .colab-df-quickchart {\n",
              "      --bg-color: #E8F0FE;\n",
              "      --fill-color: #1967D2;\n",
              "      --hover-bg-color: #E2EBFA;\n",
              "      --hover-fill-color: #174EA6;\n",
              "      --disabled-fill-color: #AAA;\n",
              "      --disabled-bg-color: #DDD;\n",
              "  }\n",
              "\n",
              "  [theme=dark] .colab-df-quickchart {\n",
              "      --bg-color: #3B4455;\n",
              "      --fill-color: #D2E3FC;\n",
              "      --hover-bg-color: #434B5C;\n",
              "      --hover-fill-color: #FFFFFF;\n",
              "      --disabled-bg-color: #3B4455;\n",
              "      --disabled-fill-color: #666;\n",
              "  }\n",
              "\n",
              "  .colab-df-quickchart {\n",
              "    background-color: var(--bg-color);\n",
              "    border: none;\n",
              "    border-radius: 50%;\n",
              "    cursor: pointer;\n",
              "    display: none;\n",
              "    fill: var(--fill-color);\n",
              "    height: 32px;\n",
              "    padding: 0;\n",
              "    width: 32px;\n",
              "  }\n",
              "\n",
              "  .colab-df-quickchart:hover {\n",
              "    background-color: var(--hover-bg-color);\n",
              "    box-shadow: 0 1px 2px rgba(60, 64, 67, 0.3), 0 1px 3px 1px rgba(60, 64, 67, 0.15);\n",
              "    fill: var(--button-hover-fill-color);\n",
              "  }\n",
              "\n",
              "  .colab-df-quickchart-complete:disabled,\n",
              "  .colab-df-quickchart-complete:disabled:hover {\n",
              "    background-color: var(--disabled-bg-color);\n",
              "    fill: var(--disabled-fill-color);\n",
              "    box-shadow: none;\n",
              "  }\n",
              "\n",
              "  .colab-df-spinner {\n",
              "    border: 2px solid var(--fill-color);\n",
              "    border-color: transparent;\n",
              "    border-bottom-color: var(--fill-color);\n",
              "    animation:\n",
              "      spin 1s steps(1) infinite;\n",
              "  }\n",
              "\n",
              "  @keyframes spin {\n",
              "    0% {\n",
              "      border-color: transparent;\n",
              "      border-bottom-color: var(--fill-color);\n",
              "      border-left-color: var(--fill-color);\n",
              "    }\n",
              "    20% {\n",
              "      border-color: transparent;\n",
              "      border-left-color: var(--fill-color);\n",
              "      border-top-color: var(--fill-color);\n",
              "    }\n",
              "    30% {\n",
              "      border-color: transparent;\n",
              "      border-left-color: var(--fill-color);\n",
              "      border-top-color: var(--fill-color);\n",
              "      border-right-color: var(--fill-color);\n",
              "    }\n",
              "    40% {\n",
              "      border-color: transparent;\n",
              "      border-right-color: var(--fill-color);\n",
              "      border-top-color: var(--fill-color);\n",
              "    }\n",
              "    60% {\n",
              "      border-color: transparent;\n",
              "      border-right-color: var(--fill-color);\n",
              "    }\n",
              "    80% {\n",
              "      border-color: transparent;\n",
              "      border-right-color: var(--fill-color);\n",
              "      border-bottom-color: var(--fill-color);\n",
              "    }\n",
              "    90% {\n",
              "      border-color: transparent;\n",
              "      border-bottom-color: var(--fill-color);\n",
              "    }\n",
              "  }\n",
              "</style>\n",
              "\n",
              "  <script>\n",
              "    async function quickchart(key) {\n",
              "      const quickchartButtonEl =\n",
              "        document.querySelector('#' + key + ' button');\n",
              "      quickchartButtonEl.disabled = true;  // To prevent multiple clicks.\n",
              "      quickchartButtonEl.classList.add('colab-df-spinner');\n",
              "      try {\n",
              "        const charts = await google.colab.kernel.invokeFunction(\n",
              "            'suggestCharts', [key], {});\n",
              "      } catch (error) {\n",
              "        console.error('Error during call to suggestCharts:', error);\n",
              "      }\n",
              "      quickchartButtonEl.classList.remove('colab-df-spinner');\n",
              "      quickchartButtonEl.classList.add('colab-df-quickchart-complete');\n",
              "    }\n",
              "    (() => {\n",
              "      let quickchartButtonEl =\n",
              "        document.querySelector('#df-6476e72b-9185-4224-b730-7825d6b93dd0 button');\n",
              "      quickchartButtonEl.style.display =\n",
              "        google.colab.kernel.accessAllowed ? 'block' : 'none';\n",
              "    })();\n",
              "  </script>\n",
              "</div>\n",
              "    </div>\n",
              "  </div>\n"
            ],
            "application/vnd.google.colaboratory.intrinsic+json": {
              "type": "dataframe",
              "variable_name": "df",
              "summary": "{\n  \"name\": \"df\",\n  \"rows\": 252,\n  \"fields\": [\n    {\n      \"column\": \"question\",\n      \"properties\": {\n        \"dtype\": \"string\",\n        \"num_unique_values\": 252,\n        \"samples\": [\n          \"What was the highest chart ranking of the song Raja sang in week 3 of X Factor Indonesia?\",\n          \"How much time had passed between Wilhelm's return to studies at Berlin and the birth of his son Friedrich?\",\n          \"How many conference titles have been won in total between Sanchez's college team and the one that he defeated in the Rose Bowl?\"\n        ],\n        \"semantic_type\": \"\",\n        \"description\": \"\"\n      }\n    },\n    {\n      \"column\": \"answer\",\n      \"properties\": {\n        \"dtype\": \"string\",\n        \"num_unique_values\": 141,\n        \"samples\": [\n          \"$82\\u00a0billion\",\n          \"1638 \",\n          \"no\"\n        ],\n        \"semantic_type\": \"\",\n        \"description\": \"\"\n      }\n    },\n    {\n      \"column\": \"llm_answer\",\n      \"properties\": {\n        \"dtype\": \"category\",\n        \"num_unique_values\": 94,\n        \"samples\": [\n          \"No\",\n          \"Alameda County\",\n          \"2 years\"\n        ],\n        \"semantic_type\": \"\",\n        \"description\": \"\"\n      }\n    },\n    {\n      \"column\": \"reasoning\",\n      \"properties\": {\n        \"dtype\": \"string\",\n        \"num_unique_values\": 251,\n        \"samples\": [\n          \"The provided passages do not contain information about Cecil Rhodes' birthdate.\",\n          \"Passage 2 states Wilhelm M\\u00fcller returned to his studies at Berlin in 1814. Passage 4 states his son, Friedrich Max M\\u00fcller, was born in 1823. Therefore, 9 years passed between these two events.\",\n          \"Passage 1 states that Schooley was born on April 13, 1880. Passage 4 states that the University of Toronto's Faculty of Medicine opened in 1843. 1880-1843 = 37 years old.\"\n        ],\n        \"semantic_type\": \"\",\n        \"description\": \"\"\n      }\n    }\n  ]\n}"
            }
          },
          "metadata": {},
          "execution_count": 68
        }
      ]
    },
    {
      "cell_type": "code",
      "source": [
        "la.text"
      ],
      "metadata": {
        "colab": {
          "base_uri": "https://localhost:8080/",
          "height": 35
        },
        "id": "W4cxp-6U2NYg",
        "outputId": "63a667b1-aaf5-4f8a-bda4-c9a90082c238"
      },
      "execution_count": 69,
      "outputs": [
        {
          "output_type": "execute_result",
          "data": {
            "text/plain": [
              "'```json\\n{\\n \"Reasoning\": \"Passage 5 states that \\\\\"Waiting on the World to Change\\\\\" stayed on the charts for 41 weeks.\",\\n \"Answer\": \"41 weeks\"\\n}\\n```'"
            ],
            "application/vnd.google.colaboratory.intrinsic+json": {
              "type": "string"
            }
          },
          "metadata": {},
          "execution_count": 69
        }
      ]
    },
    {
      "cell_type": "markdown",
      "source": [
        "## Avaliação\n",
        "\n",
        "### Métricas de Avaliação\n",
        "\n",
        "*   F1\n",
        "*   EM (exact match)\n",
        "\n",
        "\n"
      ],
      "metadata": {
        "id": "XXFXvSgq4CI4"
      }
    },
    {
      "cell_type": "code",
      "source": [
        "def normalize_answer(s):\n",
        "  \"\"\"Lower text and remove punctuation, articles and extra whitespace.\"\"\"\n",
        "  def remove_articles(text):\n",
        "    regex = re.compile(r'\\b(a|an|the)\\b', re.UNICODE)\n",
        "    return re.sub(regex, ' ', text)\n",
        "  def white_space_fix(text):\n",
        "    return ' '.join(text.split())\n",
        "  def remove_punc(text):\n",
        "    exclude = set(string.punctuation)\n",
        "    return ''.join(ch for ch in text if ch not in exclude)\n",
        "  def lower(text):\n",
        "    return text.lower()\n",
        "  def remove_accents(input_str):\n",
        "      nfkd_form = unicodedata.normalize('NFKD', input_str)\n",
        "      only_ascii = nfkd_form.encode('ASCII', 'ignore')\n",
        "      return only_ascii.decode(\"utf-8\")\n",
        "\n",
        "  return white_space_fix(remove_articles(remove_punc(lower(remove_accents(s)))))\n",
        "\n",
        "def get_tokens(s):\n",
        "  if not s: return []\n",
        "  return normalize_answer(s).split()\n",
        "\n",
        "def compute_exact(a_gold, a_pred):\n",
        "  return int(normalize_answer(a_gold) == normalize_answer(a_pred))\n",
        "\n",
        "def compute_f1(a_gold, a_pred):\n",
        "  gold_toks = get_tokens(a_gold)\n",
        "  pred_toks = get_tokens(a_pred)\n",
        "  common = collections.Counter(gold_toks) & collections.Counter(pred_toks)\n",
        "  num_same = sum(common.values())\n",
        "  if len(gold_toks) == 0 or len(pred_toks) == 0:\n",
        "    return int(gold_toks == pred_toks)\n",
        "  if num_same == 0:\n",
        "    return 0\n",
        "  precision = 1.0 * num_same / len(pred_toks)\n",
        "  recall = 1.0 * num_same / len(gold_toks)\n",
        "  f1 = (2 * precision * recall) / (precision + recall)\n",
        "  return f1"
      ],
      "metadata": {
        "id": "igH8BqtzaRN8"
      },
      "execution_count": 70,
      "outputs": []
    },
    {
      "cell_type": "code",
      "source": [
        "f1s = []\n",
        "ems = []\n",
        "for a, llm_answer in zip(df[\"answer\"].values, df['llm_answer'].values):\n",
        "\n",
        "    f1s.append(compute_f1(a, llm_answer))\n",
        "    ems.append(compute_exact(a, llm_answer))\n",
        "\n",
        "df_metrics = pd.DataFrame()\n",
        "df_metrics['F1'] = f1s\n",
        "df_metrics['EM'] = ems\n",
        "df_metrics.describe()"
      ],
      "metadata": {
        "colab": {
          "base_uri": "https://localhost:8080/",
          "height": 300
        },
        "id": "TrMa6ZKraS_t",
        "outputId": "0ec6a72a-2e90-4139-906d-fa7ff04fdda9"
      },
      "execution_count": 71,
      "outputs": [
        {
          "output_type": "execute_result",
          "data": {
            "text/plain": [
              "               F1          EM\n",
              "count  252.000000  252.000000\n",
              "mean     0.523446    0.452381\n",
              "std      0.474305    0.498718\n",
              "min      0.000000    0.000000\n",
              "25%      0.000000    0.000000\n",
              "50%      0.666667    0.000000\n",
              "75%      1.000000    1.000000\n",
              "max      1.000000    1.000000"
            ],
            "text/html": [
              "\n",
              "  <div id=\"df-f80f1ab9-b737-4bd3-9f3e-40af96877ea2\" class=\"colab-df-container\">\n",
              "    <div>\n",
              "<style scoped>\n",
              "    .dataframe tbody tr th:only-of-type {\n",
              "        vertical-align: middle;\n",
              "    }\n",
              "\n",
              "    .dataframe tbody tr th {\n",
              "        vertical-align: top;\n",
              "    }\n",
              "\n",
              "    .dataframe thead th {\n",
              "        text-align: right;\n",
              "    }\n",
              "</style>\n",
              "<table border=\"1\" class=\"dataframe\">\n",
              "  <thead>\n",
              "    <tr style=\"text-align: right;\">\n",
              "      <th></th>\n",
              "      <th>F1</th>\n",
              "      <th>EM</th>\n",
              "    </tr>\n",
              "  </thead>\n",
              "  <tbody>\n",
              "    <tr>\n",
              "      <th>count</th>\n",
              "      <td>252.000000</td>\n",
              "      <td>252.000000</td>\n",
              "    </tr>\n",
              "    <tr>\n",
              "      <th>mean</th>\n",
              "      <td>0.523446</td>\n",
              "      <td>0.452381</td>\n",
              "    </tr>\n",
              "    <tr>\n",
              "      <th>std</th>\n",
              "      <td>0.474305</td>\n",
              "      <td>0.498718</td>\n",
              "    </tr>\n",
              "    <tr>\n",
              "      <th>min</th>\n",
              "      <td>0.000000</td>\n",
              "      <td>0.000000</td>\n",
              "    </tr>\n",
              "    <tr>\n",
              "      <th>25%</th>\n",
              "      <td>0.000000</td>\n",
              "      <td>0.000000</td>\n",
              "    </tr>\n",
              "    <tr>\n",
              "      <th>50%</th>\n",
              "      <td>0.666667</td>\n",
              "      <td>0.000000</td>\n",
              "    </tr>\n",
              "    <tr>\n",
              "      <th>75%</th>\n",
              "      <td>1.000000</td>\n",
              "      <td>1.000000</td>\n",
              "    </tr>\n",
              "    <tr>\n",
              "      <th>max</th>\n",
              "      <td>1.000000</td>\n",
              "      <td>1.000000</td>\n",
              "    </tr>\n",
              "  </tbody>\n",
              "</table>\n",
              "</div>\n",
              "    <div class=\"colab-df-buttons\">\n",
              "\n",
              "  <div class=\"colab-df-container\">\n",
              "    <button class=\"colab-df-convert\" onclick=\"convertToInteractive('df-f80f1ab9-b737-4bd3-9f3e-40af96877ea2')\"\n",
              "            title=\"Convert this dataframe to an interactive table.\"\n",
              "            style=\"display:none;\">\n",
              "\n",
              "  <svg xmlns=\"http://www.w3.org/2000/svg\" height=\"24px\" viewBox=\"0 -960 960 960\">\n",
              "    <path d=\"M120-120v-720h720v720H120Zm60-500h600v-160H180v160Zm220 220h160v-160H400v160Zm0 220h160v-160H400v160ZM180-400h160v-160H180v160Zm440 0h160v-160H620v160ZM180-180h160v-160H180v160Zm440 0h160v-160H620v160Z\"/>\n",
              "  </svg>\n",
              "    </button>\n",
              "\n",
              "  <style>\n",
              "    .colab-df-container {\n",
              "      display:flex;\n",
              "      gap: 12px;\n",
              "    }\n",
              "\n",
              "    .colab-df-convert {\n",
              "      background-color: #E8F0FE;\n",
              "      border: none;\n",
              "      border-radius: 50%;\n",
              "      cursor: pointer;\n",
              "      display: none;\n",
              "      fill: #1967D2;\n",
              "      height: 32px;\n",
              "      padding: 0 0 0 0;\n",
              "      width: 32px;\n",
              "    }\n",
              "\n",
              "    .colab-df-convert:hover {\n",
              "      background-color: #E2EBFA;\n",
              "      box-shadow: 0px 1px 2px rgba(60, 64, 67, 0.3), 0px 1px 3px 1px rgba(60, 64, 67, 0.15);\n",
              "      fill: #174EA6;\n",
              "    }\n",
              "\n",
              "    .colab-df-buttons div {\n",
              "      margin-bottom: 4px;\n",
              "    }\n",
              "\n",
              "    [theme=dark] .colab-df-convert {\n",
              "      background-color: #3B4455;\n",
              "      fill: #D2E3FC;\n",
              "    }\n",
              "\n",
              "    [theme=dark] .colab-df-convert:hover {\n",
              "      background-color: #434B5C;\n",
              "      box-shadow: 0px 1px 3px 1px rgba(0, 0, 0, 0.15);\n",
              "      filter: drop-shadow(0px 1px 2px rgba(0, 0, 0, 0.3));\n",
              "      fill: #FFFFFF;\n",
              "    }\n",
              "  </style>\n",
              "\n",
              "    <script>\n",
              "      const buttonEl =\n",
              "        document.querySelector('#df-f80f1ab9-b737-4bd3-9f3e-40af96877ea2 button.colab-df-convert');\n",
              "      buttonEl.style.display =\n",
              "        google.colab.kernel.accessAllowed ? 'block' : 'none';\n",
              "\n",
              "      async function convertToInteractive(key) {\n",
              "        const element = document.querySelector('#df-f80f1ab9-b737-4bd3-9f3e-40af96877ea2');\n",
              "        const dataTable =\n",
              "          await google.colab.kernel.invokeFunction('convertToInteractive',\n",
              "                                                    [key], {});\n",
              "        if (!dataTable) return;\n",
              "\n",
              "        const docLinkHtml = 'Like what you see? Visit the ' +\n",
              "          '<a target=\"_blank\" href=https://colab.research.google.com/notebooks/data_table.ipynb>data table notebook</a>'\n",
              "          + ' to learn more about interactive tables.';\n",
              "        element.innerHTML = '';\n",
              "        dataTable['output_type'] = 'display_data';\n",
              "        await google.colab.output.renderOutput(dataTable, element);\n",
              "        const docLink = document.createElement('div');\n",
              "        docLink.innerHTML = docLinkHtml;\n",
              "        element.appendChild(docLink);\n",
              "      }\n",
              "    </script>\n",
              "  </div>\n",
              "\n",
              "\n",
              "<div id=\"df-f4335f21-a1cd-4ef0-81f0-00a87d1ae376\">\n",
              "  <button class=\"colab-df-quickchart\" onclick=\"quickchart('df-f4335f21-a1cd-4ef0-81f0-00a87d1ae376')\"\n",
              "            title=\"Suggest charts\"\n",
              "            style=\"display:none;\">\n",
              "\n",
              "<svg xmlns=\"http://www.w3.org/2000/svg\" height=\"24px\"viewBox=\"0 0 24 24\"\n",
              "     width=\"24px\">\n",
              "    <g>\n",
              "        <path d=\"M19 3H5c-1.1 0-2 .9-2 2v14c0 1.1.9 2 2 2h14c1.1 0 2-.9 2-2V5c0-1.1-.9-2-2-2zM9 17H7v-7h2v7zm4 0h-2V7h2v10zm4 0h-2v-4h2v4z\"/>\n",
              "    </g>\n",
              "</svg>\n",
              "  </button>\n",
              "\n",
              "<style>\n",
              "  .colab-df-quickchart {\n",
              "      --bg-color: #E8F0FE;\n",
              "      --fill-color: #1967D2;\n",
              "      --hover-bg-color: #E2EBFA;\n",
              "      --hover-fill-color: #174EA6;\n",
              "      --disabled-fill-color: #AAA;\n",
              "      --disabled-bg-color: #DDD;\n",
              "  }\n",
              "\n",
              "  [theme=dark] .colab-df-quickchart {\n",
              "      --bg-color: #3B4455;\n",
              "      --fill-color: #D2E3FC;\n",
              "      --hover-bg-color: #434B5C;\n",
              "      --hover-fill-color: #FFFFFF;\n",
              "      --disabled-bg-color: #3B4455;\n",
              "      --disabled-fill-color: #666;\n",
              "  }\n",
              "\n",
              "  .colab-df-quickchart {\n",
              "    background-color: var(--bg-color);\n",
              "    border: none;\n",
              "    border-radius: 50%;\n",
              "    cursor: pointer;\n",
              "    display: none;\n",
              "    fill: var(--fill-color);\n",
              "    height: 32px;\n",
              "    padding: 0;\n",
              "    width: 32px;\n",
              "  }\n",
              "\n",
              "  .colab-df-quickchart:hover {\n",
              "    background-color: var(--hover-bg-color);\n",
              "    box-shadow: 0 1px 2px rgba(60, 64, 67, 0.3), 0 1px 3px 1px rgba(60, 64, 67, 0.15);\n",
              "    fill: var(--button-hover-fill-color);\n",
              "  }\n",
              "\n",
              "  .colab-df-quickchart-complete:disabled,\n",
              "  .colab-df-quickchart-complete:disabled:hover {\n",
              "    background-color: var(--disabled-bg-color);\n",
              "    fill: var(--disabled-fill-color);\n",
              "    box-shadow: none;\n",
              "  }\n",
              "\n",
              "  .colab-df-spinner {\n",
              "    border: 2px solid var(--fill-color);\n",
              "    border-color: transparent;\n",
              "    border-bottom-color: var(--fill-color);\n",
              "    animation:\n",
              "      spin 1s steps(1) infinite;\n",
              "  }\n",
              "\n",
              "  @keyframes spin {\n",
              "    0% {\n",
              "      border-color: transparent;\n",
              "      border-bottom-color: var(--fill-color);\n",
              "      border-left-color: var(--fill-color);\n",
              "    }\n",
              "    20% {\n",
              "      border-color: transparent;\n",
              "      border-left-color: var(--fill-color);\n",
              "      border-top-color: var(--fill-color);\n",
              "    }\n",
              "    30% {\n",
              "      border-color: transparent;\n",
              "      border-left-color: var(--fill-color);\n",
              "      border-top-color: var(--fill-color);\n",
              "      border-right-color: var(--fill-color);\n",
              "    }\n",
              "    40% {\n",
              "      border-color: transparent;\n",
              "      border-right-color: var(--fill-color);\n",
              "      border-top-color: var(--fill-color);\n",
              "    }\n",
              "    60% {\n",
              "      border-color: transparent;\n",
              "      border-right-color: var(--fill-color);\n",
              "    }\n",
              "    80% {\n",
              "      border-color: transparent;\n",
              "      border-right-color: var(--fill-color);\n",
              "      border-bottom-color: var(--fill-color);\n",
              "    }\n",
              "    90% {\n",
              "      border-color: transparent;\n",
              "      border-bottom-color: var(--fill-color);\n",
              "    }\n",
              "  }\n",
              "</style>\n",
              "\n",
              "  <script>\n",
              "    async function quickchart(key) {\n",
              "      const quickchartButtonEl =\n",
              "        document.querySelector('#' + key + ' button');\n",
              "      quickchartButtonEl.disabled = true;  // To prevent multiple clicks.\n",
              "      quickchartButtonEl.classList.add('colab-df-spinner');\n",
              "      try {\n",
              "        const charts = await google.colab.kernel.invokeFunction(\n",
              "            'suggestCharts', [key], {});\n",
              "      } catch (error) {\n",
              "        console.error('Error during call to suggestCharts:', error);\n",
              "      }\n",
              "      quickchartButtonEl.classList.remove('colab-df-spinner');\n",
              "      quickchartButtonEl.classList.add('colab-df-quickchart-complete');\n",
              "    }\n",
              "    (() => {\n",
              "      let quickchartButtonEl =\n",
              "        document.querySelector('#df-f4335f21-a1cd-4ef0-81f0-00a87d1ae376 button');\n",
              "      quickchartButtonEl.style.display =\n",
              "        google.colab.kernel.accessAllowed ? 'block' : 'none';\n",
              "    })();\n",
              "  </script>\n",
              "</div>\n",
              "    </div>\n",
              "  </div>\n"
            ],
            "application/vnd.google.colaboratory.intrinsic+json": {
              "type": "dataframe",
              "summary": "{\n  \"name\": \"df_metrics\",\n  \"rows\": 8,\n  \"fields\": [\n    {\n      \"column\": \"F1\",\n      \"properties\": {\n        \"dtype\": \"number\",\n        \"std\": 88.91119694202166,\n        \"min\": 0.0,\n        \"max\": 252.0,\n        \"num_unique_values\": 6,\n        \"samples\": [\n          252.0,\n          0.5234457315945985,\n          1.0\n        ],\n        \"semantic_type\": \"\",\n        \"description\": \"\"\n      }\n    },\n    {\n      \"column\": \"EM\",\n      \"properties\": {\n        \"dtype\": \"number\",\n        \"std\": 88.94737250262969,\n        \"min\": 0.0,\n        \"max\": 252.0,\n        \"num_unique_values\": 5,\n        \"samples\": [\n          0.4523809523809524,\n          1.0,\n          0.49871776395267686\n        ],\n        \"semantic_type\": \"\",\n        \"description\": \"\"\n      }\n    }\n  ]\n}"
            }
          },
          "metadata": {},
          "execution_count": 71
        }
      ]
    }
  ]
}